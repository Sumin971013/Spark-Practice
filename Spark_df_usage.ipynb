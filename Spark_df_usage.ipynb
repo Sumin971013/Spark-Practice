{
 "cells": [
  {
   "cell_type": "code",
   "execution_count": 1,
   "metadata": {},
   "outputs": [],
   "source": [
    "import pyspark\n",
    "myConf = pyspark.SparkConf()\n",
    "spark = pyspark.sql.SparkSession.builder.getOrCreate()"
   ]
  },
  {
   "cell_type": "markdown",
   "metadata": {},
   "source": [
    "# Read Case entity "
   ]
  },
  {
   "cell_type": "code",
   "execution_count": 17,
   "metadata": {},
   "outputs": [],
   "source": [
    "cases = spark.read.load(\"coronavirusdataset/Case.csv\",format=\"csv\", sep=\",\", inferSchema=\"true\", header=\"true\")"
   ]
  },
  {
   "cell_type": "code",
   "execution_count": 5,
   "metadata": {},
   "outputs": [
    {
     "name": "stdout",
     "output_type": "stream",
     "text": [
      "+-------+--------+-------------+-----+--------------------+---------+---------+----------+\n",
      "|case_id|province|         city|group|      infection_case|confirmed| latitude| longitude|\n",
      "+-------+--------+-------------+-----+--------------------+---------+---------+----------+\n",
      "|1000001|   Seoul|   Yongsan-gu| true|       Itaewon Clubs|       72|37.538621|126.992652|\n",
      "|1000002|   Seoul|      Guro-gu| true| Guro-gu Call Center|       98|37.508163|126.884387|\n",
      "|1000003|   Seoul|Dongdaemun-gu| true|       Dongan Church|       20|37.592888|127.056766|\n",
      "|1000004|   Seoul|      Guro-gu| true|Manmin Central Ch...|       41|37.481059|126.894343|\n",
      "|1000005|   Seoul| Eunpyeong-gu| true|Eunpyeong St. Mar...|       14| 37.63369|  126.9165|\n",
      "+-------+--------+-------------+-----+--------------------+---------+---------+----------+\n",
      "only showing top 5 rows\n",
      "\n"
     ]
    }
   ],
   "source": [
    "cases.show(5)"
   ]
  },
  {
   "cell_type": "code",
   "execution_count": 6,
   "metadata": {},
   "outputs": [
    {
     "data": {
      "text/plain": [
       "['case_id',\n",
       " 'province',\n",
       " 'city',\n",
       " 'group',\n",
       " 'infection_case',\n",
       " 'confirmed',\n",
       " 'latitude',\n",
       " 'longitude']"
      ]
     },
     "execution_count": 6,
     "metadata": {},
     "output_type": "execute_result"
    }
   ],
   "source": [
    "cases.columns"
   ]
  },
  {
   "cell_type": "markdown",
   "metadata": {},
   "source": [
    "# rdd to Pandas"
   ]
  },
  {
   "cell_type": "code",
   "execution_count": 7,
   "metadata": {},
   "outputs": [
    {
     "data": {
      "text/html": [
       "<div>\n",
       "<style scoped>\n",
       "    .dataframe tbody tr th:only-of-type {\n",
       "        vertical-align: middle;\n",
       "    }\n",
       "\n",
       "    .dataframe tbody tr th {\n",
       "        vertical-align: top;\n",
       "    }\n",
       "\n",
       "    .dataframe thead th {\n",
       "        text-align: right;\n",
       "    }\n",
       "</style>\n",
       "<table border=\"1\" class=\"dataframe\">\n",
       "  <thead>\n",
       "    <tr style=\"text-align: right;\">\n",
       "      <th></th>\n",
       "      <th>case_id</th>\n",
       "      <th>province</th>\n",
       "      <th>city</th>\n",
       "      <th>group</th>\n",
       "      <th>infection_case</th>\n",
       "      <th>confirmed</th>\n",
       "      <th>latitude</th>\n",
       "      <th>longitude</th>\n",
       "    </tr>\n",
       "  </thead>\n",
       "  <tbody>\n",
       "    <tr>\n",
       "      <th>0</th>\n",
       "      <td>1000001</td>\n",
       "      <td>Seoul</td>\n",
       "      <td>Yongsan-gu</td>\n",
       "      <td>True</td>\n",
       "      <td>Itaewon Clubs</td>\n",
       "      <td>72</td>\n",
       "      <td>37.538621</td>\n",
       "      <td>126.992652</td>\n",
       "    </tr>\n",
       "    <tr>\n",
       "      <th>1</th>\n",
       "      <td>1000002</td>\n",
       "      <td>Seoul</td>\n",
       "      <td>Guro-gu</td>\n",
       "      <td>True</td>\n",
       "      <td>Guro-gu Call Center</td>\n",
       "      <td>98</td>\n",
       "      <td>37.508163</td>\n",
       "      <td>126.884387</td>\n",
       "    </tr>\n",
       "    <tr>\n",
       "      <th>2</th>\n",
       "      <td>1000003</td>\n",
       "      <td>Seoul</td>\n",
       "      <td>Dongdaemun-gu</td>\n",
       "      <td>True</td>\n",
       "      <td>Dongan Church</td>\n",
       "      <td>20</td>\n",
       "      <td>37.592888</td>\n",
       "      <td>127.056766</td>\n",
       "    </tr>\n",
       "    <tr>\n",
       "      <th>3</th>\n",
       "      <td>1000004</td>\n",
       "      <td>Seoul</td>\n",
       "      <td>Guro-gu</td>\n",
       "      <td>True</td>\n",
       "      <td>Manmin Central Church</td>\n",
       "      <td>41</td>\n",
       "      <td>37.481059</td>\n",
       "      <td>126.894343</td>\n",
       "    </tr>\n",
       "    <tr>\n",
       "      <th>4</th>\n",
       "      <td>1000005</td>\n",
       "      <td>Seoul</td>\n",
       "      <td>Eunpyeong-gu</td>\n",
       "      <td>True</td>\n",
       "      <td>Eunpyeong St. Mary's Hospital</td>\n",
       "      <td>14</td>\n",
       "      <td>37.63369</td>\n",
       "      <td>126.9165</td>\n",
       "    </tr>\n",
       "    <tr>\n",
       "      <th>5</th>\n",
       "      <td>1000006</td>\n",
       "      <td>Seoul</td>\n",
       "      <td>Seongdong-gu</td>\n",
       "      <td>True</td>\n",
       "      <td>Seongdong-gu APT</td>\n",
       "      <td>13</td>\n",
       "      <td>37.55713</td>\n",
       "      <td>127.0403</td>\n",
       "    </tr>\n",
       "    <tr>\n",
       "      <th>6</th>\n",
       "      <td>1000007</td>\n",
       "      <td>Seoul</td>\n",
       "      <td>Jongno-gu</td>\n",
       "      <td>True</td>\n",
       "      <td>Jongno Community Center</td>\n",
       "      <td>10</td>\n",
       "      <td>37.57681</td>\n",
       "      <td>127.006</td>\n",
       "    </tr>\n",
       "    <tr>\n",
       "      <th>7</th>\n",
       "      <td>1000008</td>\n",
       "      <td>Seoul</td>\n",
       "      <td>Jung-gu</td>\n",
       "      <td>True</td>\n",
       "      <td>Jung-gu Fashion Company</td>\n",
       "      <td>7</td>\n",
       "      <td>37.562405</td>\n",
       "      <td>126.984377</td>\n",
       "    </tr>\n",
       "    <tr>\n",
       "      <th>8</th>\n",
       "      <td>1000009</td>\n",
       "      <td>Seoul</td>\n",
       "      <td>from other city</td>\n",
       "      <td>True</td>\n",
       "      <td>Shincheonji Church</td>\n",
       "      <td>8</td>\n",
       "      <td>-</td>\n",
       "      <td>-</td>\n",
       "    </tr>\n",
       "    <tr>\n",
       "      <th>9</th>\n",
       "      <td>1000010</td>\n",
       "      <td>Seoul</td>\n",
       "      <td>-</td>\n",
       "      <td>False</td>\n",
       "      <td>overseas inflow</td>\n",
       "      <td>321</td>\n",
       "      <td>-</td>\n",
       "      <td>-</td>\n",
       "    </tr>\n",
       "  </tbody>\n",
       "</table>\n",
       "</div>"
      ],
      "text/plain": [
       "   case_id province             city  group                 infection_case  \\\n",
       "0  1000001    Seoul       Yongsan-gu   True                  Itaewon Clubs   \n",
       "1  1000002    Seoul          Guro-gu   True            Guro-gu Call Center   \n",
       "2  1000003    Seoul    Dongdaemun-gu   True                  Dongan Church   \n",
       "3  1000004    Seoul          Guro-gu   True          Manmin Central Church   \n",
       "4  1000005    Seoul     Eunpyeong-gu   True  Eunpyeong St. Mary's Hospital   \n",
       "5  1000006    Seoul     Seongdong-gu   True               Seongdong-gu APT   \n",
       "6  1000007    Seoul        Jongno-gu   True        Jongno Community Center   \n",
       "7  1000008    Seoul          Jung-gu   True        Jung-gu Fashion Company   \n",
       "8  1000009    Seoul  from other city   True             Shincheonji Church   \n",
       "9  1000010    Seoul                -  False                overseas inflow   \n",
       "\n",
       "   confirmed   latitude   longitude  \n",
       "0         72  37.538621  126.992652  \n",
       "1         98  37.508163  126.884387  \n",
       "2         20  37.592888  127.056766  \n",
       "3         41  37.481059  126.894343  \n",
       "4         14   37.63369    126.9165  \n",
       "5         13   37.55713    127.0403  \n",
       "6         10   37.57681     127.006  \n",
       "7          7  37.562405  126.984377  \n",
       "8          8          -           -  \n",
       "9        321          -           -  "
      ]
     },
     "execution_count": 7,
     "metadata": {},
     "output_type": "execute_result"
    }
   ],
   "source": [
    "cases.limit(10).toPandas()"
   ]
  },
  {
   "cell_type": "markdown",
   "metadata": {},
   "source": [
    "## Changing the Name of columns"
   ]
  },
  {
   "cell_type": "markdown",
   "metadata": {},
   "source": [
    "- rdd.withColumnRenamed(\"A\",\"B\")"
   ]
  },
  {
   "cell_type": "code",
   "execution_count": 8,
   "metadata": {},
   "outputs": [],
   "source": [
    "cases = cases.withColumnRenamed(\"infection_case\",'infection_source')"
   ]
  },
  {
   "cell_type": "code",
   "execution_count": 9,
   "metadata": {},
   "outputs": [
    {
     "name": "stdout",
     "output_type": "stream",
     "text": [
      "+-------+--------+-------------+-----+--------------------+---------+---------+----------+\n",
      "|case_id|province|         city|group|    infection_source|confirmed| latitude| longitude|\n",
      "+-------+--------+-------------+-----+--------------------+---------+---------+----------+\n",
      "|1000001|   Seoul|   Yongsan-gu| true|       Itaewon Clubs|       72|37.538621|126.992652|\n",
      "|1000002|   Seoul|      Guro-gu| true| Guro-gu Call Center|       98|37.508163|126.884387|\n",
      "|1000003|   Seoul|Dongdaemun-gu| true|       Dongan Church|       20|37.592888|127.056766|\n",
      "|1000004|   Seoul|      Guro-gu| true|Manmin Central Ch...|       41|37.481059|126.894343|\n",
      "|1000005|   Seoul| Eunpyeong-gu| true|Eunpyeong St. Mar...|       14| 37.63369|  126.9165|\n",
      "+-------+--------+-------------+-----+--------------------+---------+---------+----------+\n",
      "only showing top 5 rows\n",
      "\n"
     ]
    }
   ],
   "source": [
    "cases.show(5)"
   ]
  },
  {
   "cell_type": "code",
   "execution_count": 11,
   "metadata": {},
   "outputs": [],
   "source": [
    "cases = cases.toDF(*['case_id','province','city','group','infection_source','confirmed','latitude','longitude'])"
   ]
  },
  {
   "cell_type": "code",
   "execution_count": 12,
   "metadata": {},
   "outputs": [
    {
     "name": "stdout",
     "output_type": "stream",
     "text": [
      "+-------+--------+-------------+-----+--------------------+---------+---------+----------+\n",
      "|case_id|province|         city|group|    infection_source|confirmed| latitude| longitude|\n",
      "+-------+--------+-------------+-----+--------------------+---------+---------+----------+\n",
      "|1000001|   Seoul|   Yongsan-gu| true|       Itaewon Clubs|       72|37.538621|126.992652|\n",
      "|1000002|   Seoul|      Guro-gu| true| Guro-gu Call Center|       98|37.508163|126.884387|\n",
      "|1000003|   Seoul|Dongdaemun-gu| true|       Dongan Church|       20|37.592888|127.056766|\n",
      "|1000004|   Seoul|      Guro-gu| true|Manmin Central Ch...|       41|37.481059|126.894343|\n",
      "|1000005|   Seoul| Eunpyeong-gu| true|Eunpyeong St. Mar...|       14| 37.63369|  126.9165|\n",
      "+-------+--------+-------------+-----+--------------------+---------+---------+----------+\n",
      "only showing top 5 rows\n",
      "\n"
     ]
    }
   ],
   "source": [
    "cases.show(5)"
   ]
  },
  {
   "cell_type": "markdown",
   "metadata": {},
   "source": [
    "- selecting features: rdd.select(\"col1\",'col2',,,,)"
   ]
  },
  {
   "cell_type": "code",
   "execution_count": 13,
   "metadata": {},
   "outputs": [],
   "source": [
    "cases = cases.select('province','city','infection_source')"
   ]
  },
  {
   "cell_type": "code",
   "execution_count": 14,
   "metadata": {},
   "outputs": [
    {
     "name": "stdout",
     "output_type": "stream",
     "text": [
      "+--------+-------------+--------------------+\n",
      "|province|         city|    infection_source|\n",
      "+--------+-------------+--------------------+\n",
      "|   Seoul|   Yongsan-gu|       Itaewon Clubs|\n",
      "|   Seoul|      Guro-gu| Guro-gu Call Center|\n",
      "|   Seoul|Dongdaemun-gu|       Dongan Church|\n",
      "|   Seoul|      Guro-gu|Manmin Central Ch...|\n",
      "|   Seoul| Eunpyeong-gu|Eunpyeong St. Mar...|\n",
      "|   Seoul| Seongdong-gu|    Seongdong-gu APT|\n",
      "+--------+-------------+--------------------+\n",
      "only showing top 6 rows\n",
      "\n"
     ]
    }
   ],
   "source": [
    "cases.show(6)"
   ]
  },
  {
   "cell_type": "markdown",
   "metadata": {},
   "source": [
    "- sorting values by columns"
   ]
  },
  {
   "cell_type": "markdown",
   "metadata": {},
   "source": [
    "- rdd.sort(\"feature1\" , ascending=[True|False]).show()"
   ]
  },
  {
   "cell_type": "code",
   "execution_count": 19,
   "metadata": {},
   "outputs": [
    {
     "name": "stdout",
     "output_type": "stream",
     "text": [
      "+-------+-----------------+---------------+-----+--------------------+---------+---------+----------+\n",
      "|case_id|         province|           city|group|      infection_case|confirmed| latitude| longitude|\n",
      "+-------+-----------------+---------------+-----+--------------------+---------+---------+----------+\n",
      "|1200001|            Daegu|         Nam-gu| true|  Shincheonji Church|     4510| 35.84008|  128.5667|\n",
      "|1200008|            Daegu|              -|false|contact with patient|      929|        -|         -|\n",
      "|1200009|            Daegu|              -|false|                 etc|      724|        -|         -|\n",
      "|6000001| Gyeongsangbuk-do|from other city| true|  Shincheonji Church|      566|        -|         -|\n",
      "|1000010|            Seoul|              -|false|     overseas inflow|      321|        -|         -|\n",
      "|2000007|      Gyeonggi-do|              -|false|     overseas inflow|      225|        -|         -|\n",
      "|1200002|            Daegu|   Dalseong-gun| true|Second Mi-Ju Hosp...|      196|35.857375|128.466651|\n",
      "|6000011| Gyeongsangbuk-do|              -|false|contact with patient|      192|        -|         -|\n",
      "|6000012| Gyeongsangbuk-do|              -|false|                 etc|      134|        -|         -|\n",
      "|1200003|            Daegu|         Seo-gu| true|Hansarang Convale...|      128|35.885592|128.556649|\n",
      "|6000002| Gyeongsangbuk-do|   Cheongdo-gun| true|Cheongdo Daenam H...|      120| 35.64887|  128.7368|\n",
      "|4100001|Chungcheongnam-do|     Cheonan-si| true|gym facility in C...|      103| 36.81503|  127.1139|\n",
      "|1200004|            Daegu|   Dalseong-gun| true|Daesil Convalesce...|      100|35.857393|128.466653|\n",
      "|1000002|            Seoul|        Guro-gu| true| Guro-gu Call Center|       98|37.508163|126.884387|\n",
      "|1000001|            Seoul|     Yongsan-gu| true|       Itaewon Clubs|       72|37.538621|126.992652|\n",
      "|2000001|      Gyeonggi-do|    Seongnam-si| true|River of Grace Co...|       72|37.455687|127.161627|\n",
      "|6000003| Gyeongsangbuk-do|    Bonghwa-gun| true|Bonghwa Pureun Nu...|       68| 36.92757|  128.9099|\n",
      "|6000006| Gyeongsangbuk-do|   Gyeongsan-si| true|Gyeongsan Seorin ...|       66|35.782149|128.801498|\n",
      "|2000008|      Gyeonggi-do|              -|false|contact with patient|       57|        -|         -|\n",
      "|2000003|      Gyeonggi-do|   Uijeongbu-si| true|Uijeongbu St. Mar...|       50|37.758635|127.077716|\n",
      "+-------+-----------------+---------------+-----+--------------------+---------+---------+----------+\n",
      "only showing top 20 rows\n",
      "\n"
     ]
    }
   ],
   "source": [
    "cases.sort(\"confirmed\",ascending=False).show()"
   ]
  },
  {
   "cell_type": "code",
   "execution_count": null,
   "metadata": {},
   "outputs": [],
   "source": []
  }
 ],
 "metadata": {
  "kernelspec": {
   "display_name": "Python 3",
   "language": "python",
   "name": "python3"
  },
  "language_info": {
   "codemirror_mode": {
    "name": "ipython",
    "version": 3
   },
   "file_extension": ".py",
   "mimetype": "text/x-python",
   "name": "python",
   "nbconvert_exporter": "python",
   "pygments_lexer": "ipython3",
   "version": "3.7.7"
  }
 },
 "nbformat": 4,
 "nbformat_minor": 4
}
