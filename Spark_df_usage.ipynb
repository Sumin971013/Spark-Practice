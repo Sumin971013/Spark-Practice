{
 "cells": [
  {
   "cell_type": "code",
   "execution_count": 1,
   "metadata": {},
   "outputs": [],
   "source": [
    "import pyspark\n",
    "myConf = pyspark.SparkConf()\n",
    "spark = pyspark.sql.SparkSession.builder.getOrCreate()"
   ]
  },
  {
   "cell_type": "markdown",
   "metadata": {},
   "source": [
    "# Read Case entity "
   ]
  },
  {
   "cell_type": "code",
   "execution_count": 18,
   "metadata": {},
   "outputs": [],
   "source": [
    "cases = spark.read.load(\"coronavirusdataset/Case.csv\",format=\"csv\", sep=\",\", inferSchema=\"true\", header=\"true\")"
   ]
  },
  {
   "cell_type": "code",
   "execution_count": 3,
   "metadata": {},
   "outputs": [
    {
     "name": "stdout",
     "output_type": "stream",
     "text": [
      "+-------+--------+-------------+-----+--------------------+---------+---------+----------+\n",
      "|case_id|province|         city|group|      infection_case|confirmed| latitude| longitude|\n",
      "+-------+--------+-------------+-----+--------------------+---------+---------+----------+\n",
      "|1000001|   Seoul|   Yongsan-gu| true|       Itaewon Clubs|       72|37.538621|126.992652|\n",
      "|1000002|   Seoul|      Guro-gu| true| Guro-gu Call Center|       98|37.508163|126.884387|\n",
      "|1000003|   Seoul|Dongdaemun-gu| true|       Dongan Church|       20|37.592888|127.056766|\n",
      "|1000004|   Seoul|      Guro-gu| true|Manmin Central Ch...|       41|37.481059|126.894343|\n",
      "|1000005|   Seoul| Eunpyeong-gu| true|Eunpyeong St. Mar...|       14| 37.63369|  126.9165|\n",
      "+-------+--------+-------------+-----+--------------------+---------+---------+----------+\n",
      "only showing top 5 rows\n",
      "\n"
     ]
    }
   ],
   "source": [
    "cases.show(5)"
   ]
  },
  {
   "cell_type": "code",
   "execution_count": 4,
   "metadata": {},
   "outputs": [
    {
     "data": {
      "text/plain": [
       "['case_id',\n",
       " 'province',\n",
       " 'city',\n",
       " 'group',\n",
       " 'infection_case',\n",
       " 'confirmed',\n",
       " 'latitude',\n",
       " 'longitude']"
      ]
     },
     "execution_count": 4,
     "metadata": {},
     "output_type": "execute_result"
    }
   ],
   "source": [
    "cases.columns"
   ]
  },
  {
   "cell_type": "markdown",
   "metadata": {},
   "source": [
    "# rdd to Pandas"
   ]
  },
  {
   "cell_type": "code",
   "execution_count": 5,
   "metadata": {},
   "outputs": [
    {
     "data": {
      "text/html": [
       "<div>\n",
       "<style scoped>\n",
       "    .dataframe tbody tr th:only-of-type {\n",
       "        vertical-align: middle;\n",
       "    }\n",
       "\n",
       "    .dataframe tbody tr th {\n",
       "        vertical-align: top;\n",
       "    }\n",
       "\n",
       "    .dataframe thead th {\n",
       "        text-align: right;\n",
       "    }\n",
       "</style>\n",
       "<table border=\"1\" class=\"dataframe\">\n",
       "  <thead>\n",
       "    <tr style=\"text-align: right;\">\n",
       "      <th></th>\n",
       "      <th>case_id</th>\n",
       "      <th>province</th>\n",
       "      <th>city</th>\n",
       "      <th>group</th>\n",
       "      <th>infection_case</th>\n",
       "      <th>confirmed</th>\n",
       "      <th>latitude</th>\n",
       "      <th>longitude</th>\n",
       "    </tr>\n",
       "  </thead>\n",
       "  <tbody>\n",
       "    <tr>\n",
       "      <th>0</th>\n",
       "      <td>1000001</td>\n",
       "      <td>Seoul</td>\n",
       "      <td>Yongsan-gu</td>\n",
       "      <td>True</td>\n",
       "      <td>Itaewon Clubs</td>\n",
       "      <td>72</td>\n",
       "      <td>37.538621</td>\n",
       "      <td>126.992652</td>\n",
       "    </tr>\n",
       "    <tr>\n",
       "      <th>1</th>\n",
       "      <td>1000002</td>\n",
       "      <td>Seoul</td>\n",
       "      <td>Guro-gu</td>\n",
       "      <td>True</td>\n",
       "      <td>Guro-gu Call Center</td>\n",
       "      <td>98</td>\n",
       "      <td>37.508163</td>\n",
       "      <td>126.884387</td>\n",
       "    </tr>\n",
       "    <tr>\n",
       "      <th>2</th>\n",
       "      <td>1000003</td>\n",
       "      <td>Seoul</td>\n",
       "      <td>Dongdaemun-gu</td>\n",
       "      <td>True</td>\n",
       "      <td>Dongan Church</td>\n",
       "      <td>20</td>\n",
       "      <td>37.592888</td>\n",
       "      <td>127.056766</td>\n",
       "    </tr>\n",
       "    <tr>\n",
       "      <th>3</th>\n",
       "      <td>1000004</td>\n",
       "      <td>Seoul</td>\n",
       "      <td>Guro-gu</td>\n",
       "      <td>True</td>\n",
       "      <td>Manmin Central Church</td>\n",
       "      <td>41</td>\n",
       "      <td>37.481059</td>\n",
       "      <td>126.894343</td>\n",
       "    </tr>\n",
       "    <tr>\n",
       "      <th>4</th>\n",
       "      <td>1000005</td>\n",
       "      <td>Seoul</td>\n",
       "      <td>Eunpyeong-gu</td>\n",
       "      <td>True</td>\n",
       "      <td>Eunpyeong St. Mary's Hospital</td>\n",
       "      <td>14</td>\n",
       "      <td>37.63369</td>\n",
       "      <td>126.9165</td>\n",
       "    </tr>\n",
       "    <tr>\n",
       "      <th>5</th>\n",
       "      <td>1000006</td>\n",
       "      <td>Seoul</td>\n",
       "      <td>Seongdong-gu</td>\n",
       "      <td>True</td>\n",
       "      <td>Seongdong-gu APT</td>\n",
       "      <td>13</td>\n",
       "      <td>37.55713</td>\n",
       "      <td>127.0403</td>\n",
       "    </tr>\n",
       "    <tr>\n",
       "      <th>6</th>\n",
       "      <td>1000007</td>\n",
       "      <td>Seoul</td>\n",
       "      <td>Jongno-gu</td>\n",
       "      <td>True</td>\n",
       "      <td>Jongno Community Center</td>\n",
       "      <td>10</td>\n",
       "      <td>37.57681</td>\n",
       "      <td>127.006</td>\n",
       "    </tr>\n",
       "    <tr>\n",
       "      <th>7</th>\n",
       "      <td>1000008</td>\n",
       "      <td>Seoul</td>\n",
       "      <td>Jung-gu</td>\n",
       "      <td>True</td>\n",
       "      <td>Jung-gu Fashion Company</td>\n",
       "      <td>7</td>\n",
       "      <td>37.562405</td>\n",
       "      <td>126.984377</td>\n",
       "    </tr>\n",
       "    <tr>\n",
       "      <th>8</th>\n",
       "      <td>1000009</td>\n",
       "      <td>Seoul</td>\n",
       "      <td>from other city</td>\n",
       "      <td>True</td>\n",
       "      <td>Shincheonji Church</td>\n",
       "      <td>8</td>\n",
       "      <td>-</td>\n",
       "      <td>-</td>\n",
       "    </tr>\n",
       "    <tr>\n",
       "      <th>9</th>\n",
       "      <td>1000010</td>\n",
       "      <td>Seoul</td>\n",
       "      <td>-</td>\n",
       "      <td>False</td>\n",
       "      <td>overseas inflow</td>\n",
       "      <td>321</td>\n",
       "      <td>-</td>\n",
       "      <td>-</td>\n",
       "    </tr>\n",
       "  </tbody>\n",
       "</table>\n",
       "</div>"
      ],
      "text/plain": [
       "   case_id province             city  group                 infection_case  \\\n",
       "0  1000001    Seoul       Yongsan-gu   True                  Itaewon Clubs   \n",
       "1  1000002    Seoul          Guro-gu   True            Guro-gu Call Center   \n",
       "2  1000003    Seoul    Dongdaemun-gu   True                  Dongan Church   \n",
       "3  1000004    Seoul          Guro-gu   True          Manmin Central Church   \n",
       "4  1000005    Seoul     Eunpyeong-gu   True  Eunpyeong St. Mary's Hospital   \n",
       "5  1000006    Seoul     Seongdong-gu   True               Seongdong-gu APT   \n",
       "6  1000007    Seoul        Jongno-gu   True        Jongno Community Center   \n",
       "7  1000008    Seoul          Jung-gu   True        Jung-gu Fashion Company   \n",
       "8  1000009    Seoul  from other city   True             Shincheonji Church   \n",
       "9  1000010    Seoul                -  False                overseas inflow   \n",
       "\n",
       "   confirmed   latitude   longitude  \n",
       "0         72  37.538621  126.992652  \n",
       "1         98  37.508163  126.884387  \n",
       "2         20  37.592888  127.056766  \n",
       "3         41  37.481059  126.894343  \n",
       "4         14   37.63369    126.9165  \n",
       "5         13   37.55713    127.0403  \n",
       "6         10   37.57681     127.006  \n",
       "7          7  37.562405  126.984377  \n",
       "8          8          -           -  \n",
       "9        321          -           -  "
      ]
     },
     "execution_count": 5,
     "metadata": {},
     "output_type": "execute_result"
    }
   ],
   "source": [
    "cases.limit(10).toPandas()"
   ]
  },
  {
   "cell_type": "markdown",
   "metadata": {},
   "source": [
    "## Changing the Name of columns"
   ]
  },
  {
   "cell_type": "markdown",
   "metadata": {},
   "source": [
    "- rdd.withColumnRenamed(\"A\",\"B\")"
   ]
  },
  {
   "cell_type": "code",
   "execution_count": 6,
   "metadata": {},
   "outputs": [],
   "source": [
    "cases = cases.withColumnRenamed(\"infection_case\",'infection_source')"
   ]
  },
  {
   "cell_type": "code",
   "execution_count": 7,
   "metadata": {},
   "outputs": [
    {
     "name": "stdout",
     "output_type": "stream",
     "text": [
      "+-------+--------+-------------+-----+--------------------+---------+---------+----------+\n",
      "|case_id|province|         city|group|    infection_source|confirmed| latitude| longitude|\n",
      "+-------+--------+-------------+-----+--------------------+---------+---------+----------+\n",
      "|1000001|   Seoul|   Yongsan-gu| true|       Itaewon Clubs|       72|37.538621|126.992652|\n",
      "|1000002|   Seoul|      Guro-gu| true| Guro-gu Call Center|       98|37.508163|126.884387|\n",
      "|1000003|   Seoul|Dongdaemun-gu| true|       Dongan Church|       20|37.592888|127.056766|\n",
      "|1000004|   Seoul|      Guro-gu| true|Manmin Central Ch...|       41|37.481059|126.894343|\n",
      "|1000005|   Seoul| Eunpyeong-gu| true|Eunpyeong St. Mar...|       14| 37.63369|  126.9165|\n",
      "+-------+--------+-------------+-----+--------------------+---------+---------+----------+\n",
      "only showing top 5 rows\n",
      "\n"
     ]
    }
   ],
   "source": [
    "cases.show(5)"
   ]
  },
  {
   "cell_type": "code",
   "execution_count": 8,
   "metadata": {},
   "outputs": [],
   "source": [
    "cases = cases.toDF(*['case_id','province','city','group','infection_source','confirmed','latitude','longitude'])"
   ]
  },
  {
   "cell_type": "code",
   "execution_count": 9,
   "metadata": {},
   "outputs": [
    {
     "name": "stdout",
     "output_type": "stream",
     "text": [
      "+-------+--------+-------------+-----+--------------------+---------+---------+----------+\n",
      "|case_id|province|         city|group|    infection_source|confirmed| latitude| longitude|\n",
      "+-------+--------+-------------+-----+--------------------+---------+---------+----------+\n",
      "|1000001|   Seoul|   Yongsan-gu| true|       Itaewon Clubs|       72|37.538621|126.992652|\n",
      "|1000002|   Seoul|      Guro-gu| true| Guro-gu Call Center|       98|37.508163|126.884387|\n",
      "|1000003|   Seoul|Dongdaemun-gu| true|       Dongan Church|       20|37.592888|127.056766|\n",
      "|1000004|   Seoul|      Guro-gu| true|Manmin Central Ch...|       41|37.481059|126.894343|\n",
      "|1000005|   Seoul| Eunpyeong-gu| true|Eunpyeong St. Mar...|       14| 37.63369|  126.9165|\n",
      "+-------+--------+-------------+-----+--------------------+---------+---------+----------+\n",
      "only showing top 5 rows\n",
      "\n"
     ]
    }
   ],
   "source": [
    "cases.show(5)"
   ]
  },
  {
   "cell_type": "markdown",
   "metadata": {},
   "source": [
    "- selecting features: rdd.select(\"col1\",'col2',,,,)"
   ]
  },
  {
   "cell_type": "code",
   "execution_count": 10,
   "metadata": {},
   "outputs": [],
   "source": [
    "cases = cases.select('province','city','infection_source')"
   ]
  },
  {
   "cell_type": "code",
   "execution_count": 11,
   "metadata": {},
   "outputs": [
    {
     "name": "stdout",
     "output_type": "stream",
     "text": [
      "+--------+-------------+--------------------+\n",
      "|province|         city|    infection_source|\n",
      "+--------+-------------+--------------------+\n",
      "|   Seoul|   Yongsan-gu|       Itaewon Clubs|\n",
      "|   Seoul|      Guro-gu| Guro-gu Call Center|\n",
      "|   Seoul|Dongdaemun-gu|       Dongan Church|\n",
      "|   Seoul|      Guro-gu|Manmin Central Ch...|\n",
      "|   Seoul| Eunpyeong-gu|Eunpyeong St. Mar...|\n",
      "|   Seoul| Seongdong-gu|    Seongdong-gu APT|\n",
      "+--------+-------------+--------------------+\n",
      "only showing top 6 rows\n",
      "\n"
     ]
    }
   ],
   "source": [
    "cases.show(6)"
   ]
  },
  {
   "cell_type": "markdown",
   "metadata": {},
   "source": [
    "## Sort"
   ]
  },
  {
   "cell_type": "markdown",
   "metadata": {},
   "source": [
    "- sorting values by columns"
   ]
  },
  {
   "cell_type": "markdown",
   "metadata": {},
   "source": [
    "- rdd.sort(\"feature1\" , ascending=[True|False]).show()"
   ]
  },
  {
   "cell_type": "markdown",
   "metadata": {},
   "source": [
    "- df.sort(F.desc(\"feature1\")).show()\n",
    "- from pyspark.sql import functions as F"
   ]
  },
  {
   "cell_type": "code",
   "execution_count": 12,
   "metadata": {},
   "outputs": [
    {
     "name": "stdout",
     "output_type": "stream",
     "text": [
      "+-----------------+---------------+--------------------+\n",
      "|         province|           city|    infection_source|\n",
      "+-----------------+---------------+--------------------+\n",
      "|            Daegu|         Nam-gu|  Shincheonji Church|\n",
      "|            Daegu|              -|contact with patient|\n",
      "|            Daegu|              -|                 etc|\n",
      "| Gyeongsangbuk-do|from other city|  Shincheonji Church|\n",
      "|            Seoul|              -|     overseas inflow|\n",
      "|      Gyeonggi-do|              -|     overseas inflow|\n",
      "|            Daegu|   Dalseong-gun|Second Mi-Ju Hosp...|\n",
      "| Gyeongsangbuk-do|              -|contact with patient|\n",
      "| Gyeongsangbuk-do|              -|                 etc|\n",
      "|            Daegu|         Seo-gu|Hansarang Convale...|\n",
      "| Gyeongsangbuk-do|   Cheongdo-gun|Cheongdo Daenam H...|\n",
      "|Chungcheongnam-do|     Cheonan-si|gym facility in C...|\n",
      "|            Daegu|   Dalseong-gun|Daesil Convalesce...|\n",
      "|            Seoul|        Guro-gu| Guro-gu Call Center|\n",
      "|            Seoul|     Yongsan-gu|       Itaewon Clubs|\n",
      "|      Gyeonggi-do|    Seongnam-si|River of Grace Co...|\n",
      "| Gyeongsangbuk-do|    Bonghwa-gun|Bonghwa Pureun Nu...|\n",
      "| Gyeongsangbuk-do|   Gyeongsan-si|Gyeongsan Seorin ...|\n",
      "|      Gyeonggi-do|              -|contact with patient|\n",
      "|      Gyeonggi-do|   Uijeongbu-si|Uijeongbu St. Mar...|\n",
      "+-----------------+---------------+--------------------+\n",
      "only showing top 20 rows\n",
      "\n"
     ]
    }
   ],
   "source": [
    "cases.sort(\"confirmed\",ascending=False).show()"
   ]
  },
  {
   "cell_type": "code",
   "execution_count": 13,
   "metadata": {},
   "outputs": [],
   "source": [
    "from pyspark.sql.types import DoubleType, IntegerType, StringType"
   ]
  },
  {
   "cell_type": "code",
   "execution_count": 14,
   "metadata": {},
   "outputs": [],
   "source": [
    "from pyspark.sql import functions as F"
   ]
  },
  {
   "cell_type": "code",
   "execution_count": 15,
   "metadata": {},
   "outputs": [
    {
     "name": "stdout",
     "output_type": "stream",
     "text": [
      "+-----------------+---------------+--------------------+\n",
      "|         province|           city|    infection_source|\n",
      "+-----------------+---------------+--------------------+\n",
      "|            Daegu|         Nam-gu|  Shincheonji Church|\n",
      "|            Daegu|              -|contact with patient|\n",
      "|            Daegu|              -|                 etc|\n",
      "| Gyeongsangbuk-do|from other city|  Shincheonji Church|\n",
      "|            Seoul|              -|     overseas inflow|\n",
      "|      Gyeonggi-do|              -|     overseas inflow|\n",
      "|            Daegu|   Dalseong-gun|Second Mi-Ju Hosp...|\n",
      "| Gyeongsangbuk-do|              -|contact with patient|\n",
      "| Gyeongsangbuk-do|              -|                 etc|\n",
      "|            Daegu|         Seo-gu|Hansarang Convale...|\n",
      "| Gyeongsangbuk-do|   Cheongdo-gun|Cheongdo Daenam H...|\n",
      "|Chungcheongnam-do|     Cheonan-si|gym facility in C...|\n",
      "|            Daegu|   Dalseong-gun|Daesil Convalesce...|\n",
      "|            Seoul|        Guro-gu| Guro-gu Call Center|\n",
      "|            Seoul|     Yongsan-gu|       Itaewon Clubs|\n",
      "|      Gyeonggi-do|    Seongnam-si|River of Grace Co...|\n",
      "| Gyeongsangbuk-do|    Bonghwa-gun|Bonghwa Pureun Nu...|\n",
      "| Gyeongsangbuk-do|   Gyeongsan-si|Gyeongsan Seorin ...|\n",
      "|      Gyeonggi-do|              -|contact with patient|\n",
      "|      Gyeonggi-do|   Uijeongbu-si|Uijeongbu St. Mar...|\n",
      "+-----------------+---------------+--------------------+\n",
      "only showing top 20 rows\n",
      "\n"
     ]
    }
   ],
   "source": [
    "cases.sort(F.desc(\"confirmed\")).show()"
   ]
  },
  {
   "cell_type": "markdown",
   "metadata": {},
   "source": [
    "## Casting "
   ]
  },
  {
   "cell_type": "code",
   "execution_count": 16,
   "metadata": {},
   "outputs": [],
   "source": [
    "# cases = cases.withColumn('confirmed',F.col(\"confirmed\").cast(IntegerType()))\n",
    "cases = cases.withColumn('city',F.col('city').cast(StringType()))"
   ]
  },
  {
   "cell_type": "code",
   "execution_count": 19,
   "metadata": {
    "scrolled": true
   },
   "outputs": [
    {
     "name": "stdout",
     "output_type": "stream",
     "text": [
      "+---------+\n",
      "|confirmed|\n",
      "+---------+\n",
      "|       72|\n",
      "|       98|\n",
      "|       20|\n",
      "|       41|\n",
      "|       14|\n",
      "|       13|\n",
      "|       10|\n",
      "|        7|\n",
      "|        8|\n",
      "|      321|\n",
      "|       18|\n",
      "|       24|\n",
      "|       39|\n",
      "|       12|\n",
      "|        5|\n",
      "|        6|\n",
      "|        4|\n",
      "|        1|\n",
      "|       25|\n",
      "|       18|\n",
      "+---------+\n",
      "only showing top 20 rows\n",
      "\n"
     ]
    }
   ],
   "source": [
    "cases.select(\"confirmed\").show()"
   ]
  },
  {
   "cell_type": "markdown",
   "metadata": {},
   "source": [
    "## Filter"
   ]
  },
  {
   "cell_type": "code",
   "execution_count": 20,
   "metadata": {},
   "outputs": [
    {
     "name": "stdout",
     "output_type": "stream",
     "text": [
      "+-------+--------+------------+-----+--------------------+---------+---------+----------+\n",
      "|case_id|province|        city|group|      infection_case|confirmed| latitude| longitude|\n",
      "+-------+--------+------------+-----+--------------------+---------+---------+----------+\n",
      "|1200001|   Daegu|      Nam-gu| true|  Shincheonji Church|     4510| 35.84008|  128.5667|\n",
      "|1200002|   Daegu|Dalseong-gun| true|Second Mi-Ju Hosp...|      196|35.857375|128.466651|\n",
      "|1200003|   Daegu|      Seo-gu| true|Hansarang Convale...|      128|35.885592|128.556649|\n",
      "|1200004|   Daegu|Dalseong-gun| true|Daesil Convalesce...|      100|35.857393|128.466653|\n",
      "|1200005|   Daegu|     Dong-gu| true|     Fatima Hospital|       37| 35.88395|128.624059|\n",
      "|1200007|   Daegu|           -|false|     overseas inflow|       24|        -|         -|\n",
      "|1200008|   Daegu|           -|false|contact with patient|      929|        -|         -|\n",
      "|1200009|   Daegu|           -|false|                 etc|      724|        -|         -|\n",
      "+-------+--------+------------+-----+--------------------+---------+---------+----------+\n",
      "\n"
     ]
    }
   ],
   "source": [
    "cases.filter((cases.confirmed>10) & (cases.province=='Daegu')).show()"
   ]
  },
  {
   "cell_type": "markdown",
   "metadata": {},
   "source": [
    "- check for Seoul Province"
   ]
  },
  {
   "cell_type": "code",
   "execution_count": 21,
   "metadata": {},
   "outputs": [
    {
     "name": "stdout",
     "output_type": "stream",
     "text": [
      "+-------+--------+---------------+-----+--------------------+---------+---------+----------+\n",
      "|case_id|province|           city|group|      infection_case|confirmed| latitude| longitude|\n",
      "+-------+--------+---------------+-----+--------------------+---------+---------+----------+\n",
      "|1000001|   Seoul|     Yongsan-gu| true|       Itaewon Clubs|       72|37.538621|126.992652|\n",
      "|1000002|   Seoul|        Guro-gu| true| Guro-gu Call Center|       98|37.508163|126.884387|\n",
      "|1000003|   Seoul|  Dongdaemun-gu| true|       Dongan Church|       20|37.592888|127.056766|\n",
      "|1000004|   Seoul|        Guro-gu| true|Manmin Central Ch...|       41|37.481059|126.894343|\n",
      "|1000005|   Seoul|   Eunpyeong-gu| true|Eunpyeong St. Mar...|       14| 37.63369|  126.9165|\n",
      "|1000006|   Seoul|   Seongdong-gu| true|    Seongdong-gu APT|       13| 37.55713|  127.0403|\n",
      "|1000007|   Seoul|      Jongno-gu| true|Jongno Community ...|       10| 37.57681|   127.006|\n",
      "|1000008|   Seoul|        Jung-gu| true|Jung-gu Fashion C...|        7|37.562405|126.984377|\n",
      "|1000009|   Seoul|from other city| true|  Shincheonji Church|        8|        -|         -|\n",
      "|1000010|   Seoul|              -|false|     overseas inflow|      321|        -|         -|\n",
      "|1000011|   Seoul|              -|false|contact with patient|       18|        -|         -|\n",
      "|1000012|   Seoul|              -|false|                 etc|       24|        -|         -|\n",
      "+-------+--------+---------------+-----+--------------------+---------+---------+----------+\n",
      "\n"
     ]
    }
   ],
   "source": [
    "cases.filter(cases.province=='Seoul').show()"
   ]
  },
  {
   "cell_type": "code",
   "execution_count": 22,
   "metadata": {
    "scrolled": true
   },
   "outputs": [
    {
     "name": "stdout",
     "output_type": "stream",
     "text": [
      "+-------+--------+-------------+-----+--------------------+---------+---------+----------+\n",
      "|case_id|province|         city|group|      infection_case|confirmed| latitude| longitude|\n",
      "+-------+--------+-------------+-----+--------------------+---------+---------+----------+\n",
      "|1000001|   Seoul|   Yongsan-gu| true|       Itaewon Clubs|       72|37.538621|126.992652|\n",
      "|1000002|   Seoul|      Guro-gu| true| Guro-gu Call Center|       98|37.508163|126.884387|\n",
      "|1000003|   Seoul|Dongdaemun-gu| true|       Dongan Church|       20|37.592888|127.056766|\n",
      "|1000004|   Seoul|      Guro-gu| true|Manmin Central Ch...|       41|37.481059|126.894343|\n",
      "|1000005|   Seoul| Eunpyeong-gu| true|Eunpyeong St. Mar...|       14| 37.63369|  126.9165|\n",
      "|1000006|   Seoul| Seongdong-gu| true|    Seongdong-gu APT|       13| 37.55713|  127.0403|\n",
      "|1000010|   Seoul|            -|false|     overseas inflow|      321|        -|         -|\n",
      "|1000011|   Seoul|            -|false|contact with patient|       18|        -|         -|\n",
      "|1000012|   Seoul|            -|false|                 etc|       24|        -|         -|\n",
      "+-------+--------+-------------+-----+--------------------+---------+---------+----------+\n",
      "\n"
     ]
    }
   ],
   "source": [
    "cases.filter((cases.confirmed>10) & (cases.province=='Seoul')).show()"
   ]
  },
  {
   "cell_type": "code",
   "execution_count": 23,
   "metadata": {},
   "outputs": [
    {
     "name": "stdout",
     "output_type": "stream",
     "text": [
      "+-------+--------+-------------+-----+--------------------+---------+---------+----------+\n",
      "|case_id|province|         city|group|      infection_case|confirmed| latitude| longitude|\n",
      "+-------+--------+-------------+-----+--------------------+---------+---------+----------+\n",
      "|1000001|   Seoul|   Yongsan-gu| true|       Itaewon Clubs|       72|37.538621|126.992652|\n",
      "|1000002|   Seoul|      Guro-gu| true| Guro-gu Call Center|       98|37.508163|126.884387|\n",
      "|1000003|   Seoul|Dongdaemun-gu| true|       Dongan Church|       20|37.592888|127.056766|\n",
      "|1000004|   Seoul|      Guro-gu| true|Manmin Central Ch...|       41|37.481059|126.894343|\n",
      "|1000005|   Seoul| Eunpyeong-gu| true|Eunpyeong St. Mar...|       14| 37.63369|  126.9165|\n",
      "|1000006|   Seoul| Seongdong-gu| true|    Seongdong-gu APT|       13| 37.55713|  127.0403|\n",
      "|1000010|   Seoul|            -|false|     overseas inflow|      321|        -|         -|\n",
      "|1000011|   Seoul|            -|false|contact with patient|       18|        -|         -|\n",
      "|1000012|   Seoul|            -|false|                 etc|       24|        -|         -|\n",
      "+-------+--------+-------------+-----+--------------------+---------+---------+----------+\n",
      "\n"
     ]
    }
   ],
   "source": [
    "cases.filter((cases.confirmed>10) &( cases.province=='Seoul')).show(10)"
   ]
  },
  {
   "cell_type": "markdown",
   "metadata": {},
   "source": [
    "# GroupBy"
   ]
  },
  {
   "cell_type": "code",
   "execution_count": 24,
   "metadata": {
    "scrolled": true
   },
   "outputs": [
    {
     "name": "stdout",
     "output_type": "stream",
     "text": [
      "+-----------------+--------------+\n",
      "|         province|sum(confirmed)|\n",
      "+-----------------+--------------+\n",
      "|           Sejong|            46|\n",
      "|            Ulsan|            42|\n",
      "|Chungcheongbuk-do|            38|\n",
      "|       Gangwon-do|            51|\n",
      "|          Gwangju|            30|\n",
      "| Gyeongsangbuk-do|          1314|\n",
      "|            Daegu|          6650|\n",
      "| Gyeongsangnam-do|           115|\n",
      "|          Incheon|            79|\n",
      "|          Jeju-do|            14|\n",
      "|      Gyeonggi-do|           564|\n",
      "|            Busan|           139|\n",
      "|          Daejeon|            34|\n",
      "|            Seoul|           646|\n",
      "|Chungcheongnam-do|           137|\n",
      "|     Jeollabuk-do|            15|\n",
      "|     Jeollanam-do|            16|\n",
      "+-----------------+--------------+\n",
      "\n"
     ]
    }
   ],
   "source": [
    "cases.groupBy(['province']).agg(F.sum(\"confirmed\")).show()"
   ]
  },
  {
   "cell_type": "code",
   "execution_count": 25,
   "metadata": {},
   "outputs": [
    {
     "name": "stdout",
     "output_type": "stream",
     "text": [
      "+---------------+--------------+\n",
      "|           city|sum(confirmed)|\n",
      "+---------------+--------------+\n",
      "|     Cheonan-si|           103|\n",
      "|from other city|           845|\n",
      "|     Yongsan-gu|            72|\n",
      "|        Dong-gu|            37|\n",
      "|         Sejong|            38|\n",
      "|       Wonju-si|             3|\n",
      "|     Suyeong-gu|             5|\n",
      "|   Geochang-gun|            18|\n",
      "|  Dongdaemun-gu|            20|\n",
      "|     Dongnae-gu|            39|\n",
      "|         Jin-gu|             4|\n",
      "|    Changwon-si|             7|\n",
      "|         Nam-gu|          4510|\n",
      "|   Gyeongsan-si|            99|\n",
      "|      Jongno-gu|            10|\n",
      "|    Bonghwa-gun|            68|\n",
      "|   Cheongdo-gun|           120|\n",
      "|              -|          3057|\n",
      "|     Goesan-gun|            11|\n",
      "|    Chilgok-gun|            36|\n",
      "+---------------+--------------+\n",
      "only showing top 20 rows\n",
      "\n"
     ]
    }
   ],
   "source": [
    "cases.groupBy(['city']).agg(F.sum('confirmed')).show()"
   ]
  },
  {
   "cell_type": "code",
   "execution_count": 26,
   "metadata": {},
   "outputs": [
    {
     "name": "stdout",
     "output_type": "stream",
     "text": [
      "+----------------+---------------+--------------+--------------+\n",
      "|        province|           city|sum(confirmed)|max(confirmed)|\n",
      "+----------------+---------------+--------------+--------------+\n",
      "|Gyeongsangnam-do|       Jinju-si|            10|            10|\n",
      "|           Seoul|        Guro-gu|           139|            98|\n",
      "|         Daejeon|              -|            27|            10|\n",
      "|    Jeollabuk-do|from other city|             1|             1|\n",
      "|Gyeongsangnam-do|Changnyeong-gun|             7|             7|\n",
      "|           Seoul|              -|           363|           321|\n",
      "|         Jeju-do|from other city|             1|             1|\n",
      "|Gyeongsangbuk-do|              -|           336|           192|\n",
      "|Gyeongsangnam-do|   Geochang-gun|            18|            10|\n",
      "|         Incheon|from other city|            22|            20|\n",
      "|           Busan|              -|            72|            29|\n",
      "|           Daegu|         Seo-gu|           128|           128|\n",
      "|           Busan|     Suyeong-gu|             5|             5|\n",
      "|     Gyeonggi-do|   Uijeongbu-si|            50|            50|\n",
      "|           Seoul|     Yongsan-gu|            72|            72|\n",
      "|           Daegu|              -|          1677|           929|\n",
      "|     Gyeonggi-do|    Seongnam-si|            94|            72|\n",
      "|Gyeongsangnam-do|from other city|            34|            32|\n",
      "|     Gyeonggi-do|       Suwon-si|            10|            10|\n",
      "|         Daejeon|from other city|             4|             2|\n",
      "+----------------+---------------+--------------+--------------+\n",
      "only showing top 20 rows\n",
      "\n"
     ]
    }
   ],
   "source": [
    "cases.groupBy(['province','city']).agg(F.sum(\"confirmed\"),F.max(\"confirmed\")).show()"
   ]
  },
  {
   "cell_type": "code",
   "execution_count": 27,
   "metadata": {},
   "outputs": [
    {
     "name": "stdout",
     "output_type": "stream",
     "text": [
      "+----------------+---------------+--------------+-------+\n",
      "|        province|           city|totalconfirmed|maxfROM|\n",
      "+----------------+---------------+--------------+-------+\n",
      "|Gyeongsangnam-do|       Jinju-si|            10|     10|\n",
      "|           Seoul|        Guro-gu|           139|     98|\n",
      "|         Daejeon|              -|            27|     10|\n",
      "|    Jeollabuk-do|from other city|             1|      1|\n",
      "|Gyeongsangnam-do|Changnyeong-gun|             7|      7|\n",
      "|           Seoul|              -|           363|    321|\n",
      "|         Jeju-do|from other city|             1|      1|\n",
      "|Gyeongsangbuk-do|              -|           336|    192|\n",
      "|Gyeongsangnam-do|   Geochang-gun|            18|     10|\n",
      "|         Incheon|from other city|            22|     20|\n",
      "|           Busan|              -|            72|     29|\n",
      "|           Daegu|         Seo-gu|           128|    128|\n",
      "|           Busan|     Suyeong-gu|             5|      5|\n",
      "|     Gyeonggi-do|   Uijeongbu-si|            50|     50|\n",
      "|           Seoul|     Yongsan-gu|            72|     72|\n",
      "|           Daegu|              -|          1677|    929|\n",
      "|     Gyeonggi-do|    Seongnam-si|            94|     72|\n",
      "|Gyeongsangnam-do|from other city|            34|     32|\n",
      "|     Gyeonggi-do|       Suwon-si|            10|     10|\n",
      "|         Daejeon|from other city|             4|      2|\n",
      "+----------------+---------------+--------------+-------+\n",
      "only showing top 20 rows\n",
      "\n"
     ]
    }
   ],
   "source": [
    "cases.groupBy(['province','city']).agg(F.sum(\"confirmed\").alias(\"totalconfirmed\"),F.max(\"confirmed\").alias(\"maxfROM\")).show()"
   ]
  },
  {
   "cell_type": "markdown",
   "metadata": {},
   "source": [
    "## join"
   ]
  },
  {
   "cell_type": "code",
   "execution_count": 28,
   "metadata": {},
   "outputs": [],
   "source": [
    "# cases = spark.read.load(\"coronavirusdataset/Case.csv\",format=\"csv\", sep=\",\", inferSchema=\"true\", header=\"true\")\n",
    "regions = spark.read.load(\"coronavirusdataset/Region.csv\",format='csv',sep=',',inferSchema='true',header='true')"
   ]
  },
  {
   "cell_type": "code",
   "execution_count": 29,
   "metadata": {},
   "outputs": [
    {
     "name": "stdout",
     "output_type": "stream",
     "text": [
      "+-----+--------+-------------+---------+----------+-----------------------+------------------+----------------+-------------+------------------------+-------------------+------------------+\n",
      "| code|province|         city| latitude| longitude|elementary_school_count|kindergarten_count|university_count|academy_ratio|elderly_population_ratio|elderly_alone_ratio|nursing_home_count|\n",
      "+-----+--------+-------------+---------+----------+-----------------------+------------------+----------------+-------------+------------------------+-------------------+------------------+\n",
      "|10000|   Seoul|        Seoul|37.566953|126.977977|                    607|               830|              48|         1.44|                   15.38|                5.8|             22739|\n",
      "|10010|   Seoul|   Gangnam-gu|37.518421|127.047222|                     33|                38|               0|         4.18|                   13.17|                4.3|              3088|\n",
      "|10020|   Seoul|  Gangdong-gu|37.530492|127.123837|                     27|                32|               0|         1.54|                   14.55|                5.4|              1023|\n",
      "|10030|   Seoul|   Gangbuk-gu|37.639938|127.025508|                     14|                21|               0|         0.67|                   19.49|                8.5|               628|\n",
      "|10040|   Seoul|   Gangseo-gu|37.551166|126.849506|                     36|                56|               1|         1.17|                   14.39|                5.7|              1080|\n",
      "|10050|   Seoul|    Gwanak-gu| 37.47829|126.951502|                     22|                33|               1|         0.89|                   15.12|                4.9|               909|\n",
      "|10060|   Seoul|  Gwangjin-gu|37.538712|127.082366|                     22|                33|               3|         1.16|                   13.75|                4.8|               723|\n",
      "|10070|   Seoul|      Guro-gu|37.495632| 126.88765|                     26|                34|               3|          1.0|                   16.21|                5.7|               741|\n",
      "|10080|   Seoul| Geumcheon-gu|37.456852|126.895229|                     18|                19|               0|         0.96|                   16.15|                6.7|               475|\n",
      "|10090|   Seoul|     Nowon-gu|37.654259|127.056294|                     42|                66|               6|         1.39|                    15.4|                7.4|               952|\n",
      "|10100|   Seoul|    Dobong-gu|37.668952|127.047082|                     23|                26|               1|         0.95|                   17.89|                7.2|               485|\n",
      "|10110|   Seoul|Dongdaemun-gu|37.574552|127.039721|                     21|                31|               4|         1.06|                   17.26|                6.7|               832|\n",
      "|10120|   Seoul|   Dongjak-gu|37.510571|126.963604|                     21|                34|               3|         1.17|                   15.85|                5.2|               762|\n",
      "|10130|   Seoul|      Mapo-gu|37.566283|126.901644|                     22|                24|               2|         1.83|                   14.05|                4.9|               929|\n",
      "|10140|   Seoul| Seodaemun-gu|37.579428|126.936771|                     19|                25|               6|         1.12|                   16.77|                6.2|               587|\n",
      "|10150|   Seoul|    Seocho-gu|37.483804|127.032693|                     24|                27|               1|          2.6|                   13.39|                3.8|              1465|\n",
      "|10160|   Seoul| Seongdong-gu|37.563277|127.036647|                     21|                30|               2|         0.97|                   14.76|                5.3|               593|\n",
      "|10170|   Seoul|  Seongbuk-gu|37.589562|  127.0167|                     29|                49|               6|         1.02|                   16.15|                6.0|               729|\n",
      "|10180|   Seoul|    Songpa-gu| 37.51462|127.106141|                     40|                51|               1|         1.65|                    13.1|                4.1|              1527|\n",
      "|10190|   Seoul| Yangcheon-gu|37.517189|126.866618|                     30|                43|               0|         2.26|                   13.55|                5.5|               816|\n",
      "+-----+--------+-------------+---------+----------+-----------------------+------------------+----------------+-------------+------------------------+-------------------+------------------+\n",
      "only showing top 20 rows\n",
      "\n"
     ]
    }
   ],
   "source": [
    "regions.show()"
   ]
  },
  {
   "cell_type": "code",
   "execution_count": 30,
   "metadata": {},
   "outputs": [
    {
     "data": {
      "text/plain": [
       "['code',\n",
       " 'province',\n",
       " 'city',\n",
       " 'latitude',\n",
       " 'longitude',\n",
       " 'elementary_school_count',\n",
       " 'kindergarten_count',\n",
       " 'university_count',\n",
       " 'academy_ratio',\n",
       " 'elderly_population_ratio',\n",
       " 'elderly_alone_ratio',\n",
       " 'nursing_home_count']"
      ]
     },
     "execution_count": 30,
     "metadata": {},
     "output_type": "execute_result"
    }
   ],
   "source": [
    "regions.columns"
   ]
  },
  {
   "cell_type": "code",
   "execution_count": 32,
   "metadata": {},
   "outputs": [
    {
     "name": "stdout",
     "output_type": "stream",
     "text": [
      "+--------+-------------+-------------+-----------------------+\n",
      "|province|         city|academy_ratio|elementary_school_count|\n",
      "+--------+-------------+-------------+-----------------------+\n",
      "|   Seoul|        Seoul|         1.44|                    607|\n",
      "|   Seoul|   Gangnam-gu|         4.18|                     33|\n",
      "|   Seoul|  Gangdong-gu|         1.54|                     27|\n",
      "|   Seoul|   Gangbuk-gu|         0.67|                     14|\n",
      "|   Seoul|   Gangseo-gu|         1.17|                     36|\n",
      "|   Seoul|    Gwanak-gu|         0.89|                     22|\n",
      "|   Seoul|  Gwangjin-gu|         1.16|                     22|\n",
      "|   Seoul|      Guro-gu|          1.0|                     26|\n",
      "|   Seoul| Geumcheon-gu|         0.96|                     18|\n",
      "|   Seoul|     Nowon-gu|         1.39|                     42|\n",
      "|   Seoul|    Dobong-gu|         0.95|                     23|\n",
      "|   Seoul|Dongdaemun-gu|         1.06|                     21|\n",
      "|   Seoul|   Dongjak-gu|         1.17|                     21|\n",
      "|   Seoul|      Mapo-gu|         1.83|                     22|\n",
      "|   Seoul| Seodaemun-gu|         1.12|                     19|\n",
      "|   Seoul|    Seocho-gu|          2.6|                     24|\n",
      "|   Seoul| Seongdong-gu|         0.97|                     21|\n",
      "|   Seoul|  Seongbuk-gu|         1.02|                     29|\n",
      "|   Seoul|    Songpa-gu|         1.65|                     40|\n",
      "|   Seoul| Yangcheon-gu|         2.26|                     30|\n",
      "+--------+-------------+-------------+-----------------------+\n",
      "only showing top 20 rows\n",
      "\n"
     ]
    }
   ],
   "source": [
    "regions.select('province','city','academy_ratio','elementary_school_count').show()"
   ]
  },
  {
   "cell_type": "code",
   "execution_count": 33,
   "metadata": {},
   "outputs": [
    {
     "name": "stdout",
     "output_type": "stream",
     "text": [
      "+-----+-----------------+--------------+---------+----------+-----------------------+------------------+----------------+-------------+------------------------+-------------------+------------------+\n",
      "| code|         province|          city| latitude| longitude|elementary_school_count|kindergarten_count|university_count|academy_ratio|elderly_population_ratio|elderly_alone_ratio|nursing_home_count|\n",
      "+-----+-----------------+--------------+---------+----------+-----------------------+------------------+----------------+-------------+------------------------+-------------------+------------------+\n",
      "|14090|          Incheon|    Ongjin-gun|37.446777|126.636747|                      6|                10|               0|         0.19|                   25.35|               11.1|                32|\n",
      "|51120|     Jeollanam-do|     Sinan-gun|34.833564|126.351636|                     19|                22|               0|          0.2|                   35.18|               21.0|                77|\n",
      "|60170| Gyeongsangbuk-do|   Ulleung-gun|37.484438|130.905883|                      4|                 6|               0|         0.21|                   24.81|               10.7|                11|\n",
      "|60050| Gyeongsangbuk-do|     Gunwi-gun|36.242926|128.572939|                      7|                 8|               0|         0.25|                   38.87|               21.6|                41|\n",
      "|51070|     Jeollanam-do|   Damyang-gun|35.321144|126.988229|                     14|                15|               1|         0.28|                   30.27|               16.3|                98|\n",
      "|60190| Gyeongsangbuk-do|   Uiseong-gun|36.352718|128.697088|                     16|                16|               0|         0.32|                   40.26|               23.7|               108|\n",
      "|60130| Gyeongsangbuk-do| Yeongyang-gun|36.666664|129.112401|                      6|                 8|               0|         0.35|                   36.36|               21.1|                24|\n",
      "|40010|Chungcheongbuk-do|    Goesan-gun| 36.81534|127.786651|                     14|                15|               1|         0.36|                   33.01|               16.5|                64|\n",
      "|60080| Gyeongsangbuk-do|   Bonghwa-gun|36.893099|128.732568|                     14|                17|               0|         0.37|                   35.26|               20.0|                47|\n",
      "|50140|     Jeollabuk-do|     Jinan-gun|35.791669|127.424806|                     13|                12|               0|         0.39|                    33.8|               19.5|                54|\n",
      "|30020|       Gangwon-do|   Goseong-gun|38.380571|128.467827|                     13|                11|               1|         0.48|                   28.53|               14.6|                41|\n",
      "|51200|     Jeollanam-do| Hampyeong-gun|35.065927|126.516688|                     11|                12|               0|         0.49|                   35.45|               22.0|                76|\n",
      "|40020|Chungcheongbuk-do|   Danyang-gun|36.984657|128.365476|                     11|                11|               0|          0.5|                   29.52|               15.8|                52|\n",
      "|60210| Gyeongsangbuk-do|Cheongsong-gun|36.436301| 129.05708|                      8|                 8|               0|         0.51|                   36.08|               19.4|                55|\n",
      "|50100|     Jeollabuk-do|     Imsil-gun|35.617891|127.288868|                     15|                14|               1|         0.55|                   34.82|               20.1|                79|\n",
      "|50110|     Jeollabuk-do|    Jangsu-gun|35.647281|127.521204|                      8|                 8|               0|         0.58|                   32.87|               19.1|                44|\n",
      "|60100| Gyeongsangbuk-do|   Seongju-gun|35.919325|128.283237|                     12|                15|               0|         0.59|                   30.89|               15.9|                84|\n",
      "|41130|Chungcheongnam-do|Cheongyang-gun|36.459129|126.802333|                     12|                13|               1|          0.6|                   34.51|               18.0|                62|\n",
      "|60030| Gyeongsangbuk-do|  Goryeong-gun| 35.72615| 128.26295|                      9|                 9|               0|         0.62|                   30.17|               15.9|                62|\n",
      "|40050|Chungcheongbuk-do|   Okcheon-gun|36.306367| 127.57128|                     12|                17|               1|         0.63|                   28.83|               14.9|               107|\n",
      "+-----+-----------------+--------------+---------+----------+-----------------------+------------------+----------------+-------------+------------------------+-------------------+------------------+\n",
      "only showing top 20 rows\n",
      "\n"
     ]
    }
   ],
   "source": [
    "regions.sort(\"academy_ratio\").show()"
   ]
  },
  {
   "cell_type": "code",
   "execution_count": 35,
   "metadata": {},
   "outputs": [
    {
     "data": {
      "text/html": [
       "<div>\n",
       "<style scoped>\n",
       "    .dataframe tbody tr th:only-of-type {\n",
       "        vertical-align: middle;\n",
       "    }\n",
       "\n",
       "    .dataframe tbody tr th {\n",
       "        vertical-align: top;\n",
       "    }\n",
       "\n",
       "    .dataframe thead th {\n",
       "        text-align: right;\n",
       "    }\n",
       "</style>\n",
       "<table border=\"1\" class=\"dataframe\">\n",
       "  <thead>\n",
       "    <tr style=\"text-align: right;\">\n",
       "      <th></th>\n",
       "      <th>province</th>\n",
       "      <th>city</th>\n",
       "      <th>case_id</th>\n",
       "      <th>group</th>\n",
       "      <th>infection_case</th>\n",
       "      <th>confirmed</th>\n",
       "      <th>latitude</th>\n",
       "      <th>longitude</th>\n",
       "      <th>code</th>\n",
       "      <th>latitude</th>\n",
       "      <th>longitude</th>\n",
       "      <th>elementary_school_count</th>\n",
       "      <th>kindergarten_count</th>\n",
       "      <th>university_count</th>\n",
       "      <th>academy_ratio</th>\n",
       "      <th>elderly_population_ratio</th>\n",
       "      <th>elderly_alone_ratio</th>\n",
       "      <th>nursing_home_count</th>\n",
       "    </tr>\n",
       "  </thead>\n",
       "  <tbody>\n",
       "    <tr>\n",
       "      <th>0</th>\n",
       "      <td>Seoul</td>\n",
       "      <td>Yongsan-gu</td>\n",
       "      <td>1000001</td>\n",
       "      <td>True</td>\n",
       "      <td>Itaewon Clubs</td>\n",
       "      <td>72</td>\n",
       "      <td>37.538621</td>\n",
       "      <td>126.992652</td>\n",
       "      <td>10210.0</td>\n",
       "      <td>37.532768</td>\n",
       "      <td>126.990021</td>\n",
       "      <td>15.0</td>\n",
       "      <td>13.0</td>\n",
       "      <td>1.0</td>\n",
       "      <td>0.68</td>\n",
       "      <td>16.87</td>\n",
       "      <td>6.5</td>\n",
       "      <td>435.0</td>\n",
       "    </tr>\n",
       "    <tr>\n",
       "      <th>1</th>\n",
       "      <td>Seoul</td>\n",
       "      <td>Guro-gu</td>\n",
       "      <td>1000002</td>\n",
       "      <td>True</td>\n",
       "      <td>Guro-gu Call Center</td>\n",
       "      <td>98</td>\n",
       "      <td>37.508163</td>\n",
       "      <td>126.884387</td>\n",
       "      <td>10070.0</td>\n",
       "      <td>37.495632</td>\n",
       "      <td>126.887650</td>\n",
       "      <td>26.0</td>\n",
       "      <td>34.0</td>\n",
       "      <td>3.0</td>\n",
       "      <td>1.00</td>\n",
       "      <td>16.21</td>\n",
       "      <td>5.7</td>\n",
       "      <td>741.0</td>\n",
       "    </tr>\n",
       "    <tr>\n",
       "      <th>2</th>\n",
       "      <td>Seoul</td>\n",
       "      <td>Dongdaemun-gu</td>\n",
       "      <td>1000003</td>\n",
       "      <td>True</td>\n",
       "      <td>Dongan Church</td>\n",
       "      <td>20</td>\n",
       "      <td>37.592888</td>\n",
       "      <td>127.056766</td>\n",
       "      <td>10110.0</td>\n",
       "      <td>37.574552</td>\n",
       "      <td>127.039721</td>\n",
       "      <td>21.0</td>\n",
       "      <td>31.0</td>\n",
       "      <td>4.0</td>\n",
       "      <td>1.06</td>\n",
       "      <td>17.26</td>\n",
       "      <td>6.7</td>\n",
       "      <td>832.0</td>\n",
       "    </tr>\n",
       "    <tr>\n",
       "      <th>3</th>\n",
       "      <td>Seoul</td>\n",
       "      <td>Guro-gu</td>\n",
       "      <td>1000004</td>\n",
       "      <td>True</td>\n",
       "      <td>Manmin Central Church</td>\n",
       "      <td>41</td>\n",
       "      <td>37.481059</td>\n",
       "      <td>126.894343</td>\n",
       "      <td>10070.0</td>\n",
       "      <td>37.495632</td>\n",
       "      <td>126.887650</td>\n",
       "      <td>26.0</td>\n",
       "      <td>34.0</td>\n",
       "      <td>3.0</td>\n",
       "      <td>1.00</td>\n",
       "      <td>16.21</td>\n",
       "      <td>5.7</td>\n",
       "      <td>741.0</td>\n",
       "    </tr>\n",
       "    <tr>\n",
       "      <th>4</th>\n",
       "      <td>Seoul</td>\n",
       "      <td>Eunpyeong-gu</td>\n",
       "      <td>1000005</td>\n",
       "      <td>True</td>\n",
       "      <td>Eunpyeong St. Mary's Hospital</td>\n",
       "      <td>14</td>\n",
       "      <td>37.63369</td>\n",
       "      <td>126.9165</td>\n",
       "      <td>10220.0</td>\n",
       "      <td>37.603481</td>\n",
       "      <td>126.929173</td>\n",
       "      <td>31.0</td>\n",
       "      <td>44.0</td>\n",
       "      <td>1.0</td>\n",
       "      <td>1.09</td>\n",
       "      <td>17.00</td>\n",
       "      <td>6.5</td>\n",
       "      <td>874.0</td>\n",
       "    </tr>\n",
       "    <tr>\n",
       "      <th>5</th>\n",
       "      <td>Seoul</td>\n",
       "      <td>Seongdong-gu</td>\n",
       "      <td>1000006</td>\n",
       "      <td>True</td>\n",
       "      <td>Seongdong-gu APT</td>\n",
       "      <td>13</td>\n",
       "      <td>37.55713</td>\n",
       "      <td>127.0403</td>\n",
       "      <td>10160.0</td>\n",
       "      <td>37.563277</td>\n",
       "      <td>127.036647</td>\n",
       "      <td>21.0</td>\n",
       "      <td>30.0</td>\n",
       "      <td>2.0</td>\n",
       "      <td>0.97</td>\n",
       "      <td>14.76</td>\n",
       "      <td>5.3</td>\n",
       "      <td>593.0</td>\n",
       "    </tr>\n",
       "    <tr>\n",
       "      <th>6</th>\n",
       "      <td>Seoul</td>\n",
       "      <td>Jongno-gu</td>\n",
       "      <td>1000007</td>\n",
       "      <td>True</td>\n",
       "      <td>Jongno Community Center</td>\n",
       "      <td>10</td>\n",
       "      <td>37.57681</td>\n",
       "      <td>127.006</td>\n",
       "      <td>10230.0</td>\n",
       "      <td>37.572999</td>\n",
       "      <td>126.979189</td>\n",
       "      <td>13.0</td>\n",
       "      <td>17.0</td>\n",
       "      <td>3.0</td>\n",
       "      <td>1.71</td>\n",
       "      <td>18.27</td>\n",
       "      <td>6.8</td>\n",
       "      <td>668.0</td>\n",
       "    </tr>\n",
       "    <tr>\n",
       "      <th>7</th>\n",
       "      <td>Seoul</td>\n",
       "      <td>Jung-gu</td>\n",
       "      <td>1000008</td>\n",
       "      <td>True</td>\n",
       "      <td>Jung-gu Fashion Company</td>\n",
       "      <td>7</td>\n",
       "      <td>37.562405</td>\n",
       "      <td>126.984377</td>\n",
       "      <td>10240.0</td>\n",
       "      <td>37.563988</td>\n",
       "      <td>126.997530</td>\n",
       "      <td>12.0</td>\n",
       "      <td>14.0</td>\n",
       "      <td>2.0</td>\n",
       "      <td>0.94</td>\n",
       "      <td>18.42</td>\n",
       "      <td>7.4</td>\n",
       "      <td>728.0</td>\n",
       "    </tr>\n",
       "    <tr>\n",
       "      <th>8</th>\n",
       "      <td>Seoul</td>\n",
       "      <td>from other city</td>\n",
       "      <td>1000009</td>\n",
       "      <td>True</td>\n",
       "      <td>Shincheonji Church</td>\n",
       "      <td>8</td>\n",
       "      <td>-</td>\n",
       "      <td>-</td>\n",
       "      <td>NaN</td>\n",
       "      <td>NaN</td>\n",
       "      <td>NaN</td>\n",
       "      <td>NaN</td>\n",
       "      <td>NaN</td>\n",
       "      <td>NaN</td>\n",
       "      <td>NaN</td>\n",
       "      <td>NaN</td>\n",
       "      <td>NaN</td>\n",
       "      <td>NaN</td>\n",
       "    </tr>\n",
       "    <tr>\n",
       "      <th>9</th>\n",
       "      <td>Seoul</td>\n",
       "      <td>-</td>\n",
       "      <td>1000010</td>\n",
       "      <td>False</td>\n",
       "      <td>overseas inflow</td>\n",
       "      <td>321</td>\n",
       "      <td>-</td>\n",
       "      <td>-</td>\n",
       "      <td>NaN</td>\n",
       "      <td>NaN</td>\n",
       "      <td>NaN</td>\n",
       "      <td>NaN</td>\n",
       "      <td>NaN</td>\n",
       "      <td>NaN</td>\n",
       "      <td>NaN</td>\n",
       "      <td>NaN</td>\n",
       "      <td>NaN</td>\n",
       "      <td>NaN</td>\n",
       "    </tr>\n",
       "  </tbody>\n",
       "</table>\n",
       "</div>"
      ],
      "text/plain": [
       "  province             city  case_id  group                 infection_case  \\\n",
       "0    Seoul       Yongsan-gu  1000001   True                  Itaewon Clubs   \n",
       "1    Seoul          Guro-gu  1000002   True            Guro-gu Call Center   \n",
       "2    Seoul    Dongdaemun-gu  1000003   True                  Dongan Church   \n",
       "3    Seoul          Guro-gu  1000004   True          Manmin Central Church   \n",
       "4    Seoul     Eunpyeong-gu  1000005   True  Eunpyeong St. Mary's Hospital   \n",
       "5    Seoul     Seongdong-gu  1000006   True               Seongdong-gu APT   \n",
       "6    Seoul        Jongno-gu  1000007   True        Jongno Community Center   \n",
       "7    Seoul          Jung-gu  1000008   True        Jung-gu Fashion Company   \n",
       "8    Seoul  from other city  1000009   True             Shincheonji Church   \n",
       "9    Seoul                -  1000010  False                overseas inflow   \n",
       "\n",
       "   confirmed   latitude   longitude     code   latitude   longitude  \\\n",
       "0         72  37.538621  126.992652  10210.0  37.532768  126.990021   \n",
       "1         98  37.508163  126.884387  10070.0  37.495632  126.887650   \n",
       "2         20  37.592888  127.056766  10110.0  37.574552  127.039721   \n",
       "3         41  37.481059  126.894343  10070.0  37.495632  126.887650   \n",
       "4         14   37.63369    126.9165  10220.0  37.603481  126.929173   \n",
       "5         13   37.55713    127.0403  10160.0  37.563277  127.036647   \n",
       "6         10   37.57681     127.006  10230.0  37.572999  126.979189   \n",
       "7          7  37.562405  126.984377  10240.0  37.563988  126.997530   \n",
       "8          8          -           -      NaN        NaN         NaN   \n",
       "9        321          -           -      NaN        NaN         NaN   \n",
       "\n",
       "   elementary_school_count  kindergarten_count  university_count  \\\n",
       "0                     15.0                13.0               1.0   \n",
       "1                     26.0                34.0               3.0   \n",
       "2                     21.0                31.0               4.0   \n",
       "3                     26.0                34.0               3.0   \n",
       "4                     31.0                44.0               1.0   \n",
       "5                     21.0                30.0               2.0   \n",
       "6                     13.0                17.0               3.0   \n",
       "7                     12.0                14.0               2.0   \n",
       "8                      NaN                 NaN               NaN   \n",
       "9                      NaN                 NaN               NaN   \n",
       "\n",
       "   academy_ratio  elderly_population_ratio  elderly_alone_ratio  \\\n",
       "0           0.68                     16.87                  6.5   \n",
       "1           1.00                     16.21                  5.7   \n",
       "2           1.06                     17.26                  6.7   \n",
       "3           1.00                     16.21                  5.7   \n",
       "4           1.09                     17.00                  6.5   \n",
       "5           0.97                     14.76                  5.3   \n",
       "6           1.71                     18.27                  6.8   \n",
       "7           0.94                     18.42                  7.4   \n",
       "8            NaN                       NaN                  NaN   \n",
       "9            NaN                       NaN                  NaN   \n",
       "\n",
       "   nursing_home_count  \n",
       "0               435.0  \n",
       "1               741.0  \n",
       "2               832.0  \n",
       "3               741.0  \n",
       "4               874.0  \n",
       "5               593.0  \n",
       "6               668.0  \n",
       "7               728.0  \n",
       "8                 NaN  \n",
       "9                 NaN  "
      ]
     },
     "execution_count": 35,
     "metadata": {},
     "output_type": "execute_result"
    }
   ],
   "source": [
    "join_test = cases.join(regions,['province','city'],how='left')\n",
    "join_test.limit(10).toPandas()"
   ]
  },
  {
   "cell_type": "markdown",
   "metadata": {},
   "source": [
    "# combind with SQL"
   ]
  },
  {
   "cell_type": "code",
   "execution_count": 37,
   "metadata": {},
   "outputs": [],
   "source": [
    "cases.registerTempTable(\"temp\")"
   ]
  },
  {
   "cell_type": "code",
   "execution_count": 38,
   "metadata": {},
   "outputs": [],
   "source": [
    "newDf = sqlContext.sql('select * from temp')"
   ]
  },
  {
   "cell_type": "code",
   "execution_count": 39,
   "metadata": {},
   "outputs": [
    {
     "name": "stdout",
     "output_type": "stream",
     "text": [
      "+-------+--------+---------------+-----+--------------------+---------+---------+----------+\n",
      "|case_id|province|           city|group|      infection_case|confirmed| latitude| longitude|\n",
      "+-------+--------+---------------+-----+--------------------+---------+---------+----------+\n",
      "|1000001|   Seoul|     Yongsan-gu| true|       Itaewon Clubs|       72|37.538621|126.992652|\n",
      "|1000002|   Seoul|        Guro-gu| true| Guro-gu Call Center|       98|37.508163|126.884387|\n",
      "|1000003|   Seoul|  Dongdaemun-gu| true|       Dongan Church|       20|37.592888|127.056766|\n",
      "|1000004|   Seoul|        Guro-gu| true|Manmin Central Ch...|       41|37.481059|126.894343|\n",
      "|1000005|   Seoul|   Eunpyeong-gu| true|Eunpyeong St. Mar...|       14| 37.63369|  126.9165|\n",
      "|1000006|   Seoul|   Seongdong-gu| true|    Seongdong-gu APT|       13| 37.55713|  127.0403|\n",
      "|1000007|   Seoul|      Jongno-gu| true|Jongno Community ...|       10| 37.57681|   127.006|\n",
      "|1000008|   Seoul|        Jung-gu| true|Jung-gu Fashion C...|        7|37.562405|126.984377|\n",
      "|1000009|   Seoul|from other city| true|  Shincheonji Church|        8|        -|         -|\n",
      "|1000010|   Seoul|              -|false|     overseas inflow|      321|        -|         -|\n",
      "|1000011|   Seoul|              -|false|contact with patient|       18|        -|         -|\n",
      "|1000012|   Seoul|              -|false|                 etc|       24|        -|         -|\n",
      "|1100001|   Busan|     Dongnae-gu| true|       Onchun Church|       39| 35.21628|  129.0771|\n",
      "|1100002|   Busan|from other city| true|  Shincheonji Church|       12|        -|         -|\n",
      "|1100003|   Busan|     Suyeong-gu| true|Suyeong-gu Kinder...|        5| 35.16708|  129.1124|\n",
      "|1100004|   Busan|    Haeundae-gu| true|Haeundae-gu Catho...|        6| 35.20599|  129.1256|\n",
      "|1100005|   Busan|         Jin-gu| true|      Jin-gu Academy|        4| 35.17371|  129.0633|\n",
      "|1100006|   Busan|from other city| true|Cheongdo Daenam H...|        1|        -|         -|\n",
      "|1100007|   Busan|              -|false|     overseas inflow|       25|        -|         -|\n",
      "|1100008|   Busan|              -|false|contact with patient|       18|        -|         -|\n",
      "+-------+--------+---------------+-----+--------------------+---------+---------+----------+\n",
      "only showing top 20 rows\n",
      "\n"
     ]
    }
   ],
   "source": [
    "newDf.show()"
   ]
  },
  {
   "cell_type": "code",
   "execution_count": 40,
   "metadata": {},
   "outputs": [],
   "source": [
    "seoul_info = sqlContext.sql('select * from temp where province=\"Seoul\" ')"
   ]
  },
  {
   "cell_type": "code",
   "execution_count": 42,
   "metadata": {},
   "outputs": [
    {
     "name": "stdout",
     "output_type": "stream",
     "text": [
      "+-------+--------+---------------+-----+--------------------+---------+---------+----------+\n",
      "|case_id|province|           city|group|      infection_case|confirmed| latitude| longitude|\n",
      "+-------+--------+---------------+-----+--------------------+---------+---------+----------+\n",
      "|1000001|   Seoul|     Yongsan-gu| true|       Itaewon Clubs|       72|37.538621|126.992652|\n",
      "|1000002|   Seoul|        Guro-gu| true| Guro-gu Call Center|       98|37.508163|126.884387|\n",
      "|1000003|   Seoul|  Dongdaemun-gu| true|       Dongan Church|       20|37.592888|127.056766|\n",
      "|1000004|   Seoul|        Guro-gu| true|Manmin Central Ch...|       41|37.481059|126.894343|\n",
      "|1000005|   Seoul|   Eunpyeong-gu| true|Eunpyeong St. Mar...|       14| 37.63369|  126.9165|\n",
      "|1000006|   Seoul|   Seongdong-gu| true|    Seongdong-gu APT|       13| 37.55713|  127.0403|\n",
      "|1000007|   Seoul|      Jongno-gu| true|Jongno Community ...|       10| 37.57681|   127.006|\n",
      "|1000008|   Seoul|        Jung-gu| true|Jung-gu Fashion C...|        7|37.562405|126.984377|\n",
      "|1000009|   Seoul|from other city| true|  Shincheonji Church|        8|        -|         -|\n",
      "|1000010|   Seoul|              -|false|     overseas inflow|      321|        -|         -|\n",
      "|1000011|   Seoul|              -|false|contact with patient|       18|        -|         -|\n",
      "|1000012|   Seoul|              -|false|                 etc|       24|        -|         -|\n",
      "+-------+--------+---------------+-----+--------------------+---------+---------+----------+\n",
      "\n"
     ]
    }
   ],
   "source": [
    "seoul_info.show()"
   ]
  },
  {
   "cell_type": "code",
   "execution_count": null,
   "metadata": {},
   "outputs": [],
   "source": []
  }
 ],
 "metadata": {
  "kernelspec": {
   "display_name": "Python 3",
   "language": "python",
   "name": "python3"
  },
  "language_info": {
   "codemirror_mode": {
    "name": "ipython",
    "version": 3
   },
   "file_extension": ".py",
   "mimetype": "text/x-python",
   "name": "python",
   "nbconvert_exporter": "python",
   "pygments_lexer": "ipython3",
   "version": "3.7.7"
  }
 },
 "nbformat": 4,
 "nbformat_minor": 4
}
