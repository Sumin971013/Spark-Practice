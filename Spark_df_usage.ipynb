{
 "cells": [
  {
   "cell_type": "code",
   "execution_count": 1,
   "metadata": {},
   "outputs": [],
   "source": [
    "import pyspark\n",
    "myConf = pyspark.SparkConf()\n",
    "spark = pyspark.sql.SparkSession.builder.getOrCreate()"
   ]
  },
  {
   "cell_type": "markdown",
   "metadata": {},
   "source": [
    "# Read Case entity "
   ]
  },
  {
   "cell_type": "code",
   "execution_count": 18,
   "metadata": {},
   "outputs": [],
   "source": [
    "cases = spark.read.load(\"coronavirusdataset/Case.csv\",format=\"csv\", sep=\",\", inferSchema=\"true\", header=\"true\")"
   ]
  },
  {
   "cell_type": "code",
   "execution_count": 3,
   "metadata": {},
   "outputs": [
    {
     "name": "stdout",
     "output_type": "stream",
     "text": [
      "+-------+--------+-------------+-----+--------------------+---------+---------+----------+\n",
      "|case_id|province|         city|group|      infection_case|confirmed| latitude| longitude|\n",
      "+-------+--------+-------------+-----+--------------------+---------+---------+----------+\n",
      "|1000001|   Seoul|   Yongsan-gu| true|       Itaewon Clubs|       72|37.538621|126.992652|\n",
      "|1000002|   Seoul|      Guro-gu| true| Guro-gu Call Center|       98|37.508163|126.884387|\n",
      "|1000003|   Seoul|Dongdaemun-gu| true|       Dongan Church|       20|37.592888|127.056766|\n",
      "|1000004|   Seoul|      Guro-gu| true|Manmin Central Ch...|       41|37.481059|126.894343|\n",
      "|1000005|   Seoul| Eunpyeong-gu| true|Eunpyeong St. Mar...|       14| 37.63369|  126.9165|\n",
      "+-------+--------+-------------+-----+--------------------+---------+---------+----------+\n",
      "only showing top 5 rows\n",
      "\n"
     ]
    }
   ],
   "source": [
    "cases.show(5)"
   ]
  },
  {
   "cell_type": "code",
   "execution_count": 4,
   "metadata": {},
   "outputs": [
    {
     "data": {
      "text/plain": [
       "['case_id',\n",
       " 'province',\n",
       " 'city',\n",
       " 'group',\n",
       " 'infection_case',\n",
       " 'confirmed',\n",
       " 'latitude',\n",
       " 'longitude']"
      ]
     },
     "execution_count": 4,
     "metadata": {},
     "output_type": "execute_result"
    }
   ],
   "source": [
    "cases.columns"
   ]
  },
  {
   "cell_type": "markdown",
   "metadata": {},
   "source": [
    "# rdd to Pandas"
   ]
  },
  {
   "cell_type": "code",
   "execution_count": 5,
   "metadata": {},
   "outputs": [
    {
     "data": {
      "text/html": [
       "<div>\n",
       "<style scoped>\n",
       "    .dataframe tbody tr th:only-of-type {\n",
       "        vertical-align: middle;\n",
       "    }\n",
       "\n",
       "    .dataframe tbody tr th {\n",
       "        vertical-align: top;\n",
       "    }\n",
       "\n",
       "    .dataframe thead th {\n",
       "        text-align: right;\n",
       "    }\n",
       "</style>\n",
       "<table border=\"1\" class=\"dataframe\">\n",
       "  <thead>\n",
       "    <tr style=\"text-align: right;\">\n",
       "      <th></th>\n",
       "      <th>case_id</th>\n",
       "      <th>province</th>\n",
       "      <th>city</th>\n",
       "      <th>group</th>\n",
       "      <th>infection_case</th>\n",
       "      <th>confirmed</th>\n",
       "      <th>latitude</th>\n",
       "      <th>longitude</th>\n",
       "    </tr>\n",
       "  </thead>\n",
       "  <tbody>\n",
       "    <tr>\n",
       "      <th>0</th>\n",
       "      <td>1000001</td>\n",
       "      <td>Seoul</td>\n",
       "      <td>Yongsan-gu</td>\n",
       "      <td>True</td>\n",
       "      <td>Itaewon Clubs</td>\n",
       "      <td>72</td>\n",
       "      <td>37.538621</td>\n",
       "      <td>126.992652</td>\n",
       "    </tr>\n",
       "    <tr>\n",
       "      <th>1</th>\n",
       "      <td>1000002</td>\n",
       "      <td>Seoul</td>\n",
       "      <td>Guro-gu</td>\n",
       "      <td>True</td>\n",
       "      <td>Guro-gu Call Center</td>\n",
       "      <td>98</td>\n",
       "      <td>37.508163</td>\n",
       "      <td>126.884387</td>\n",
       "    </tr>\n",
       "    <tr>\n",
       "      <th>2</th>\n",
       "      <td>1000003</td>\n",
       "      <td>Seoul</td>\n",
       "      <td>Dongdaemun-gu</td>\n",
       "      <td>True</td>\n",
       "      <td>Dongan Church</td>\n",
       "      <td>20</td>\n",
       "      <td>37.592888</td>\n",
       "      <td>127.056766</td>\n",
       "    </tr>\n",
       "    <tr>\n",
       "      <th>3</th>\n",
       "      <td>1000004</td>\n",
       "      <td>Seoul</td>\n",
       "      <td>Guro-gu</td>\n",
       "      <td>True</td>\n",
       "      <td>Manmin Central Church</td>\n",
       "      <td>41</td>\n",
       "      <td>37.481059</td>\n",
       "      <td>126.894343</td>\n",
       "    </tr>\n",
       "    <tr>\n",
       "      <th>4</th>\n",
       "      <td>1000005</td>\n",
       "      <td>Seoul</td>\n",
       "      <td>Eunpyeong-gu</td>\n",
       "      <td>True</td>\n",
       "      <td>Eunpyeong St. Mary's Hospital</td>\n",
       "      <td>14</td>\n",
       "      <td>37.63369</td>\n",
       "      <td>126.9165</td>\n",
       "    </tr>\n",
       "    <tr>\n",
       "      <th>5</th>\n",
       "      <td>1000006</td>\n",
       "      <td>Seoul</td>\n",
       "      <td>Seongdong-gu</td>\n",
       "      <td>True</td>\n",
       "      <td>Seongdong-gu APT</td>\n",
       "      <td>13</td>\n",
       "      <td>37.55713</td>\n",
       "      <td>127.0403</td>\n",
       "    </tr>\n",
       "    <tr>\n",
       "      <th>6</th>\n",
       "      <td>1000007</td>\n",
       "      <td>Seoul</td>\n",
       "      <td>Jongno-gu</td>\n",
       "      <td>True</td>\n",
       "      <td>Jongno Community Center</td>\n",
       "      <td>10</td>\n",
       "      <td>37.57681</td>\n",
       "      <td>127.006</td>\n",
       "    </tr>\n",
       "    <tr>\n",
       "      <th>7</th>\n",
       "      <td>1000008</td>\n",
       "      <td>Seoul</td>\n",
       "      <td>Jung-gu</td>\n",
       "      <td>True</td>\n",
       "      <td>Jung-gu Fashion Company</td>\n",
       "      <td>7</td>\n",
       "      <td>37.562405</td>\n",
       "      <td>126.984377</td>\n",
       "    </tr>\n",
       "    <tr>\n",
       "      <th>8</th>\n",
       "      <td>1000009</td>\n",
       "      <td>Seoul</td>\n",
       "      <td>from other city</td>\n",
       "      <td>True</td>\n",
       "      <td>Shincheonji Church</td>\n",
       "      <td>8</td>\n",
       "      <td>-</td>\n",
       "      <td>-</td>\n",
       "    </tr>\n",
       "    <tr>\n",
       "      <th>9</th>\n",
       "      <td>1000010</td>\n",
       "      <td>Seoul</td>\n",
       "      <td>-</td>\n",
       "      <td>False</td>\n",
       "      <td>overseas inflow</td>\n",
       "      <td>321</td>\n",
       "      <td>-</td>\n",
       "      <td>-</td>\n",
       "    </tr>\n",
       "  </tbody>\n",
       "</table>\n",
       "</div>"
      ],
      "text/plain": [
       "   case_id province             city  group                 infection_case  \\\n",
       "0  1000001    Seoul       Yongsan-gu   True                  Itaewon Clubs   \n",
       "1  1000002    Seoul          Guro-gu   True            Guro-gu Call Center   \n",
       "2  1000003    Seoul    Dongdaemun-gu   True                  Dongan Church   \n",
       "3  1000004    Seoul          Guro-gu   True          Manmin Central Church   \n",
       "4  1000005    Seoul     Eunpyeong-gu   True  Eunpyeong St. Mary's Hospital   \n",
       "5  1000006    Seoul     Seongdong-gu   True               Seongdong-gu APT   \n",
       "6  1000007    Seoul        Jongno-gu   True        Jongno Community Center   \n",
       "7  1000008    Seoul          Jung-gu   True        Jung-gu Fashion Company   \n",
       "8  1000009    Seoul  from other city   True             Shincheonji Church   \n",
       "9  1000010    Seoul                -  False                overseas inflow   \n",
       "\n",
       "   confirmed   latitude   longitude  \n",
       "0         72  37.538621  126.992652  \n",
       "1         98  37.508163  126.884387  \n",
       "2         20  37.592888  127.056766  \n",
       "3         41  37.481059  126.894343  \n",
       "4         14   37.63369    126.9165  \n",
       "5         13   37.55713    127.0403  \n",
       "6         10   37.57681     127.006  \n",
       "7          7  37.562405  126.984377  \n",
       "8          8          -           -  \n",
       "9        321          -           -  "
      ]
     },
     "execution_count": 5,
     "metadata": {},
     "output_type": "execute_result"
    }
   ],
   "source": [
    "cases.limit(10).toPandas()"
   ]
  },
  {
   "cell_type": "markdown",
   "metadata": {},
   "source": [
    "## Changing the Name of columns"
   ]
  },
  {
   "cell_type": "markdown",
   "metadata": {},
   "source": [
    "- rdd.withColumnRenamed(\"A\",\"B\")"
   ]
  },
  {
   "cell_type": "code",
   "execution_count": 6,
   "metadata": {},
   "outputs": [],
   "source": [
    "cases = cases.withColumnRenamed(\"infection_case\",'infection_source')"
   ]
  },
  {
   "cell_type": "code",
   "execution_count": 7,
   "metadata": {},
   "outputs": [
    {
     "name": "stdout",
     "output_type": "stream",
     "text": [
      "+-------+--------+-------------+-----+--------------------+---------+---------+----------+\n",
      "|case_id|province|         city|group|    infection_source|confirmed| latitude| longitude|\n",
      "+-------+--------+-------------+-----+--------------------+---------+---------+----------+\n",
      "|1000001|   Seoul|   Yongsan-gu| true|       Itaewon Clubs|       72|37.538621|126.992652|\n",
      "|1000002|   Seoul|      Guro-gu| true| Guro-gu Call Center|       98|37.508163|126.884387|\n",
      "|1000003|   Seoul|Dongdaemun-gu| true|       Dongan Church|       20|37.592888|127.056766|\n",
      "|1000004|   Seoul|      Guro-gu| true|Manmin Central Ch...|       41|37.481059|126.894343|\n",
      "|1000005|   Seoul| Eunpyeong-gu| true|Eunpyeong St. Mar...|       14| 37.63369|  126.9165|\n",
      "+-------+--------+-------------+-----+--------------------+---------+---------+----------+\n",
      "only showing top 5 rows\n",
      "\n"
     ]
    }
   ],
   "source": [
    "cases.show(5)"
   ]
  },
  {
   "cell_type": "code",
   "execution_count": 8,
   "metadata": {},
   "outputs": [],
   "source": [
    "cases = cases.toDF(*['case_id','province','city','group','infection_source','confirmed','latitude','longitude'])"
   ]
  },
  {
   "cell_type": "code",
   "execution_count": 9,
   "metadata": {},
   "outputs": [
    {
     "name": "stdout",
     "output_type": "stream",
     "text": [
      "+-------+--------+-------------+-----+--------------------+---------+---------+----------+\n",
      "|case_id|province|         city|group|    infection_source|confirmed| latitude| longitude|\n",
      "+-------+--------+-------------+-----+--------------------+---------+---------+----------+\n",
      "|1000001|   Seoul|   Yongsan-gu| true|       Itaewon Clubs|       72|37.538621|126.992652|\n",
      "|1000002|   Seoul|      Guro-gu| true| Guro-gu Call Center|       98|37.508163|126.884387|\n",
      "|1000003|   Seoul|Dongdaemun-gu| true|       Dongan Church|       20|37.592888|127.056766|\n",
      "|1000004|   Seoul|      Guro-gu| true|Manmin Central Ch...|       41|37.481059|126.894343|\n",
      "|1000005|   Seoul| Eunpyeong-gu| true|Eunpyeong St. Mar...|       14| 37.63369|  126.9165|\n",
      "+-------+--------+-------------+-----+--------------------+---------+---------+----------+\n",
      "only showing top 5 rows\n",
      "\n"
     ]
    }
   ],
   "source": [
    "cases.show(5)"
   ]
  },
  {
   "cell_type": "markdown",
   "metadata": {},
   "source": [
    "- selecting features: rdd.select(\"col1\",'col2',,,,)"
   ]
  },
  {
   "cell_type": "code",
   "execution_count": 10,
   "metadata": {},
   "outputs": [],
   "source": [
    "cases = cases.select('province','city','infection_source')"
   ]
  },
  {
   "cell_type": "code",
   "execution_count": 11,
   "metadata": {},
   "outputs": [
    {
     "name": "stdout",
     "output_type": "stream",
     "text": [
      "+--------+-------------+--------------------+\n",
      "|province|         city|    infection_source|\n",
      "+--------+-------------+--------------------+\n",
      "|   Seoul|   Yongsan-gu|       Itaewon Clubs|\n",
      "|   Seoul|      Guro-gu| Guro-gu Call Center|\n",
      "|   Seoul|Dongdaemun-gu|       Dongan Church|\n",
      "|   Seoul|      Guro-gu|Manmin Central Ch...|\n",
      "|   Seoul| Eunpyeong-gu|Eunpyeong St. Mar...|\n",
      "|   Seoul| Seongdong-gu|    Seongdong-gu APT|\n",
      "+--------+-------------+--------------------+\n",
      "only showing top 6 rows\n",
      "\n"
     ]
    }
   ],
   "source": [
    "cases.show(6)"
   ]
  },
  {
   "cell_type": "markdown",
   "metadata": {},
   "source": [
    "## Sort"
   ]
  },
  {
   "cell_type": "markdown",
   "metadata": {},
   "source": [
    "- sorting values by columns"
   ]
  },
  {
   "cell_type": "markdown",
   "metadata": {},
   "source": [
    "- rdd.sort(\"feature1\" , ascending=[True|False]).show()"
   ]
  },
  {
   "cell_type": "markdown",
   "metadata": {},
   "source": [
    "- df.sort(F.desc(\"feature1\")).show()\n",
    "- from pyspark.sql import functions as F"
   ]
  },
  {
   "cell_type": "code",
   "execution_count": 12,
   "metadata": {},
   "outputs": [
    {
     "name": "stdout",
     "output_type": "stream",
     "text": [
      "+-----------------+---------------+--------------------+\n",
      "|         province|           city|    infection_source|\n",
      "+-----------------+---------------+--------------------+\n",
      "|            Daegu|         Nam-gu|  Shincheonji Church|\n",
      "|            Daegu|              -|contact with patient|\n",
      "|            Daegu|              -|                 etc|\n",
      "| Gyeongsangbuk-do|from other city|  Shincheonji Church|\n",
      "|            Seoul|              -|     overseas inflow|\n",
      "|      Gyeonggi-do|              -|     overseas inflow|\n",
      "|            Daegu|   Dalseong-gun|Second Mi-Ju Hosp...|\n",
      "| Gyeongsangbuk-do|              -|contact with patient|\n",
      "| Gyeongsangbuk-do|              -|                 etc|\n",
      "|            Daegu|         Seo-gu|Hansarang Convale...|\n",
      "| Gyeongsangbuk-do|   Cheongdo-gun|Cheongdo Daenam H...|\n",
      "|Chungcheongnam-do|     Cheonan-si|gym facility in C...|\n",
      "|            Daegu|   Dalseong-gun|Daesil Convalesce...|\n",
      "|            Seoul|        Guro-gu| Guro-gu Call Center|\n",
      "|            Seoul|     Yongsan-gu|       Itaewon Clubs|\n",
      "|      Gyeonggi-do|    Seongnam-si|River of Grace Co...|\n",
      "| Gyeongsangbuk-do|    Bonghwa-gun|Bonghwa Pureun Nu...|\n",
      "| Gyeongsangbuk-do|   Gyeongsan-si|Gyeongsan Seorin ...|\n",
      "|      Gyeonggi-do|              -|contact with patient|\n",
      "|      Gyeonggi-do|   Uijeongbu-si|Uijeongbu St. Mar...|\n",
      "+-----------------+---------------+--------------------+\n",
      "only showing top 20 rows\n",
      "\n"
     ]
    }
   ],
   "source": [
    "cases.sort(\"confirmed\",ascending=False).show()"
   ]
  },
  {
   "cell_type": "code",
   "execution_count": 13,
   "metadata": {},
   "outputs": [],
   "source": [
    "from pyspark.sql.types import DoubleType, IntegerType, StringType"
   ]
  },
  {
   "cell_type": "code",
   "execution_count": 14,
   "metadata": {},
   "outputs": [],
   "source": [
    "from pyspark.sql import functions as F"
   ]
  },
  {
   "cell_type": "code",
   "execution_count": 15,
   "metadata": {},
   "outputs": [
    {
     "name": "stdout",
     "output_type": "stream",
     "text": [
      "+-----------------+---------------+--------------------+\n",
      "|         province|           city|    infection_source|\n",
      "+-----------------+---------------+--------------------+\n",
      "|            Daegu|         Nam-gu|  Shincheonji Church|\n",
      "|            Daegu|              -|contact with patient|\n",
      "|            Daegu|              -|                 etc|\n",
      "| Gyeongsangbuk-do|from other city|  Shincheonji Church|\n",
      "|            Seoul|              -|     overseas inflow|\n",
      "|      Gyeonggi-do|              -|     overseas inflow|\n",
      "|            Daegu|   Dalseong-gun|Second Mi-Ju Hosp...|\n",
      "| Gyeongsangbuk-do|              -|contact with patient|\n",
      "| Gyeongsangbuk-do|              -|                 etc|\n",
      "|            Daegu|         Seo-gu|Hansarang Convale...|\n",
      "| Gyeongsangbuk-do|   Cheongdo-gun|Cheongdo Daenam H...|\n",
      "|Chungcheongnam-do|     Cheonan-si|gym facility in C...|\n",
      "|            Daegu|   Dalseong-gun|Daesil Convalesce...|\n",
      "|            Seoul|        Guro-gu| Guro-gu Call Center|\n",
      "|            Seoul|     Yongsan-gu|       Itaewon Clubs|\n",
      "|      Gyeonggi-do|    Seongnam-si|River of Grace Co...|\n",
      "| Gyeongsangbuk-do|    Bonghwa-gun|Bonghwa Pureun Nu...|\n",
      "| Gyeongsangbuk-do|   Gyeongsan-si|Gyeongsan Seorin ...|\n",
      "|      Gyeonggi-do|              -|contact with patient|\n",
      "|      Gyeonggi-do|   Uijeongbu-si|Uijeongbu St. Mar...|\n",
      "+-----------------+---------------+--------------------+\n",
      "only showing top 20 rows\n",
      "\n"
     ]
    }
   ],
   "source": [
    "cases.sort(F.desc(\"confirmed\")).show()"
   ]
  },
  {
   "cell_type": "markdown",
   "metadata": {},
   "source": [
    "## Casting "
   ]
  },
  {
   "cell_type": "code",
   "execution_count": 16,
   "metadata": {},
   "outputs": [],
   "source": [
    "# cases = cases.withColumn('confirmed',F.col(\"confirmed\").cast(IntegerType()))\n",
    "cases = cases.withColumn('city',F.col('city').cast(StringType()))"
   ]
  },
  {
   "cell_type": "code",
   "execution_count": 19,
   "metadata": {
    "scrolled": true
   },
   "outputs": [
    {
     "name": "stdout",
     "output_type": "stream",
     "text": [
      "+---------+\n",
      "|confirmed|\n",
      "+---------+\n",
      "|       72|\n",
      "|       98|\n",
      "|       20|\n",
      "|       41|\n",
      "|       14|\n",
      "|       13|\n",
      "|       10|\n",
      "|        7|\n",
      "|        8|\n",
      "|      321|\n",
      "|       18|\n",
      "|       24|\n",
      "|       39|\n",
      "|       12|\n",
      "|        5|\n",
      "|        6|\n",
      "|        4|\n",
      "|        1|\n",
      "|       25|\n",
      "|       18|\n",
      "+---------+\n",
      "only showing top 20 rows\n",
      "\n"
     ]
    }
   ],
   "source": [
    "cases.select(\"confirmed\").show()"
   ]
  },
  {
   "cell_type": "markdown",
   "metadata": {},
   "source": [
    "## Filter"
   ]
  },
  {
   "cell_type": "code",
   "execution_count": 20,
   "metadata": {},
   "outputs": [
    {
     "name": "stdout",
     "output_type": "stream",
     "text": [
      "+-------+--------+------------+-----+--------------------+---------+---------+----------+\n",
      "|case_id|province|        city|group|      infection_case|confirmed| latitude| longitude|\n",
      "+-------+--------+------------+-----+--------------------+---------+---------+----------+\n",
      "|1200001|   Daegu|      Nam-gu| true|  Shincheonji Church|     4510| 35.84008|  128.5667|\n",
      "|1200002|   Daegu|Dalseong-gun| true|Second Mi-Ju Hosp...|      196|35.857375|128.466651|\n",
      "|1200003|   Daegu|      Seo-gu| true|Hansarang Convale...|      128|35.885592|128.556649|\n",
      "|1200004|   Daegu|Dalseong-gun| true|Daesil Convalesce...|      100|35.857393|128.466653|\n",
      "|1200005|   Daegu|     Dong-gu| true|     Fatima Hospital|       37| 35.88395|128.624059|\n",
      "|1200007|   Daegu|           -|false|     overseas inflow|       24|        -|         -|\n",
      "|1200008|   Daegu|           -|false|contact with patient|      929|        -|         -|\n",
      "|1200009|   Daegu|           -|false|                 etc|      724|        -|         -|\n",
      "+-------+--------+------------+-----+--------------------+---------+---------+----------+\n",
      "\n"
     ]
    }
   ],
   "source": [
    "cases.filter((cases.confirmed>10) & (cases.province=='Daegu')).show()"
   ]
  },
  {
   "cell_type": "markdown",
   "metadata": {},
   "source": [
    "- check for Seoul Province"
   ]
  },
  {
   "cell_type": "code",
   "execution_count": 21,
   "metadata": {},
   "outputs": [
    {
     "name": "stdout",
     "output_type": "stream",
     "text": [
      "+-------+--------+---------------+-----+--------------------+---------+---------+----------+\n",
      "|case_id|province|           city|group|      infection_case|confirmed| latitude| longitude|\n",
      "+-------+--------+---------------+-----+--------------------+---------+---------+----------+\n",
      "|1000001|   Seoul|     Yongsan-gu| true|       Itaewon Clubs|       72|37.538621|126.992652|\n",
      "|1000002|   Seoul|        Guro-gu| true| Guro-gu Call Center|       98|37.508163|126.884387|\n",
      "|1000003|   Seoul|  Dongdaemun-gu| true|       Dongan Church|       20|37.592888|127.056766|\n",
      "|1000004|   Seoul|        Guro-gu| true|Manmin Central Ch...|       41|37.481059|126.894343|\n",
      "|1000005|   Seoul|   Eunpyeong-gu| true|Eunpyeong St. Mar...|       14| 37.63369|  126.9165|\n",
      "|1000006|   Seoul|   Seongdong-gu| true|    Seongdong-gu APT|       13| 37.55713|  127.0403|\n",
      "|1000007|   Seoul|      Jongno-gu| true|Jongno Community ...|       10| 37.57681|   127.006|\n",
      "|1000008|   Seoul|        Jung-gu| true|Jung-gu Fashion C...|        7|37.562405|126.984377|\n",
      "|1000009|   Seoul|from other city| true|  Shincheonji Church|        8|        -|         -|\n",
      "|1000010|   Seoul|              -|false|     overseas inflow|      321|        -|         -|\n",
      "|1000011|   Seoul|              -|false|contact with patient|       18|        -|         -|\n",
      "|1000012|   Seoul|              -|false|                 etc|       24|        -|         -|\n",
      "+-------+--------+---------------+-----+--------------------+---------+---------+----------+\n",
      "\n"
     ]
    }
   ],
   "source": [
    "cases.filter(cases.province=='Seoul').show()"
   ]
  },
  {
   "cell_type": "code",
   "execution_count": 22,
   "metadata": {
    "scrolled": true
   },
   "outputs": [
    {
     "name": "stdout",
     "output_type": "stream",
     "text": [
      "+-------+--------+-------------+-----+--------------------+---------+---------+----------+\n",
      "|case_id|province|         city|group|      infection_case|confirmed| latitude| longitude|\n",
      "+-------+--------+-------------+-----+--------------------+---------+---------+----------+\n",
      "|1000001|   Seoul|   Yongsan-gu| true|       Itaewon Clubs|       72|37.538621|126.992652|\n",
      "|1000002|   Seoul|      Guro-gu| true| Guro-gu Call Center|       98|37.508163|126.884387|\n",
      "|1000003|   Seoul|Dongdaemun-gu| true|       Dongan Church|       20|37.592888|127.056766|\n",
      "|1000004|   Seoul|      Guro-gu| true|Manmin Central Ch...|       41|37.481059|126.894343|\n",
      "|1000005|   Seoul| Eunpyeong-gu| true|Eunpyeong St. Mar...|       14| 37.63369|  126.9165|\n",
      "|1000006|   Seoul| Seongdong-gu| true|    Seongdong-gu APT|       13| 37.55713|  127.0403|\n",
      "|1000010|   Seoul|            -|false|     overseas inflow|      321|        -|         -|\n",
      "|1000011|   Seoul|            -|false|contact with patient|       18|        -|         -|\n",
      "|1000012|   Seoul|            -|false|                 etc|       24|        -|         -|\n",
      "+-------+--------+-------------+-----+--------------------+---------+---------+----------+\n",
      "\n"
     ]
    }
   ],
   "source": [
    "cases.filter((cases.confirmed>10) & (cases.province=='Seoul')).show()"
   ]
  },
  {
   "cell_type": "code",
   "execution_count": 23,
   "metadata": {},
   "outputs": [
    {
     "name": "stdout",
     "output_type": "stream",
     "text": [
      "+-------+--------+-------------+-----+--------------------+---------+---------+----------+\n",
      "|case_id|province|         city|group|      infection_case|confirmed| latitude| longitude|\n",
      "+-------+--------+-------------+-----+--------------------+---------+---------+----------+\n",
      "|1000001|   Seoul|   Yongsan-gu| true|       Itaewon Clubs|       72|37.538621|126.992652|\n",
      "|1000002|   Seoul|      Guro-gu| true| Guro-gu Call Center|       98|37.508163|126.884387|\n",
      "|1000003|   Seoul|Dongdaemun-gu| true|       Dongan Church|       20|37.592888|127.056766|\n",
      "|1000004|   Seoul|      Guro-gu| true|Manmin Central Ch...|       41|37.481059|126.894343|\n",
      "|1000005|   Seoul| Eunpyeong-gu| true|Eunpyeong St. Mar...|       14| 37.63369|  126.9165|\n",
      "|1000006|   Seoul| Seongdong-gu| true|    Seongdong-gu APT|       13| 37.55713|  127.0403|\n",
      "|1000010|   Seoul|            -|false|     overseas inflow|      321|        -|         -|\n",
      "|1000011|   Seoul|            -|false|contact with patient|       18|        -|         -|\n",
      "|1000012|   Seoul|            -|false|                 etc|       24|        -|         -|\n",
      "+-------+--------+-------------+-----+--------------------+---------+---------+----------+\n",
      "\n"
     ]
    }
   ],
   "source": [
    "cases.filter((cases.confirmed>10) &( cases.province=='Seoul')).show(10)"
   ]
  },
  {
   "cell_type": "markdown",
   "metadata": {},
   "source": [
    "# GroupBy"
   ]
  },
  {
   "cell_type": "code",
   "execution_count": 24,
   "metadata": {
    "scrolled": true
   },
   "outputs": [
    {
     "name": "stdout",
     "output_type": "stream",
     "text": [
      "+-----------------+--------------+\n",
      "|         province|sum(confirmed)|\n",
      "+-----------------+--------------+\n",
      "|           Sejong|            46|\n",
      "|            Ulsan|            42|\n",
      "|Chungcheongbuk-do|            38|\n",
      "|       Gangwon-do|            51|\n",
      "|          Gwangju|            30|\n",
      "| Gyeongsangbuk-do|          1314|\n",
      "|            Daegu|          6650|\n",
      "| Gyeongsangnam-do|           115|\n",
      "|          Incheon|            79|\n",
      "|          Jeju-do|            14|\n",
      "|      Gyeonggi-do|           564|\n",
      "|            Busan|           139|\n",
      "|          Daejeon|            34|\n",
      "|            Seoul|           646|\n",
      "|Chungcheongnam-do|           137|\n",
      "|     Jeollabuk-do|            15|\n",
      "|     Jeollanam-do|            16|\n",
      "+-----------------+--------------+\n",
      "\n"
     ]
    }
   ],
   "source": [
    "cases.groupBy(['province']).agg(F.sum(\"confirmed\")).show()"
   ]
  },
  {
   "cell_type": "code",
   "execution_count": 25,
   "metadata": {},
   "outputs": [
    {
     "name": "stdout",
     "output_type": "stream",
     "text": [
      "+---------------+--------------+\n",
      "|           city|sum(confirmed)|\n",
      "+---------------+--------------+\n",
      "|     Cheonan-si|           103|\n",
      "|from other city|           845|\n",
      "|     Yongsan-gu|            72|\n",
      "|        Dong-gu|            37|\n",
      "|         Sejong|            38|\n",
      "|       Wonju-si|             3|\n",
      "|     Suyeong-gu|             5|\n",
      "|   Geochang-gun|            18|\n",
      "|  Dongdaemun-gu|            20|\n",
      "|     Dongnae-gu|            39|\n",
      "|         Jin-gu|             4|\n",
      "|    Changwon-si|             7|\n",
      "|         Nam-gu|          4510|\n",
      "|   Gyeongsan-si|            99|\n",
      "|      Jongno-gu|            10|\n",
      "|    Bonghwa-gun|            68|\n",
      "|   Cheongdo-gun|           120|\n",
      "|              -|          3057|\n",
      "|     Goesan-gun|            11|\n",
      "|    Chilgok-gun|            36|\n",
      "+---------------+--------------+\n",
      "only showing top 20 rows\n",
      "\n"
     ]
    }
   ],
   "source": [
    "cases.groupBy(['city']).agg(F.sum('confirmed')).show()"
   ]
  },
  {
   "cell_type": "code",
   "execution_count": 26,
   "metadata": {},
   "outputs": [
    {
     "name": "stdout",
     "output_type": "stream",
     "text": [
      "+----------------+---------------+--------------+--------------+\n",
      "|        province|           city|sum(confirmed)|max(confirmed)|\n",
      "+----------------+---------------+--------------+--------------+\n",
      "|Gyeongsangnam-do|       Jinju-si|            10|            10|\n",
      "|           Seoul|        Guro-gu|           139|            98|\n",
      "|         Daejeon|              -|            27|            10|\n",
      "|    Jeollabuk-do|from other city|             1|             1|\n",
      "|Gyeongsangnam-do|Changnyeong-gun|             7|             7|\n",
      "|           Seoul|              -|           363|           321|\n",
      "|         Jeju-do|from other city|             1|             1|\n",
      "|Gyeongsangbuk-do|              -|           336|           192|\n",
      "|Gyeongsangnam-do|   Geochang-gun|            18|            10|\n",
      "|         Incheon|from other city|            22|            20|\n",
      "|           Busan|              -|            72|            29|\n",
      "|           Daegu|         Seo-gu|           128|           128|\n",
      "|           Busan|     Suyeong-gu|             5|             5|\n",
      "|     Gyeonggi-do|   Uijeongbu-si|            50|            50|\n",
      "|           Seoul|     Yongsan-gu|            72|            72|\n",
      "|           Daegu|              -|          1677|           929|\n",
      "|     Gyeonggi-do|    Seongnam-si|            94|            72|\n",
      "|Gyeongsangnam-do|from other city|            34|            32|\n",
      "|     Gyeonggi-do|       Suwon-si|            10|            10|\n",
      "|         Daejeon|from other city|             4|             2|\n",
      "+----------------+---------------+--------------+--------------+\n",
      "only showing top 20 rows\n",
      "\n"
     ]
    }
   ],
   "source": [
    "cases.groupBy(['province','city']).agg(F.sum(\"confirmed\"),F.max(\"confirmed\")).show()"
   ]
  },
  {
   "cell_type": "code",
   "execution_count": null,
   "metadata": {},
   "outputs": [],
   "source": []
  }
 ],
 "metadata": {
  "kernelspec": {
   "display_name": "Python 3",
   "language": "python",
   "name": "python3"
  },
  "language_info": {
   "codemirror_mode": {
    "name": "ipython",
    "version": 3
   },
   "file_extension": ".py",
   "mimetype": "text/x-python",
   "name": "python",
   "nbconvert_exporter": "python",
   "pygments_lexer": "ipython3",
   "version": "3.7.7"
  }
 },
 "nbformat": 4,
 "nbformat_minor": 4
}
